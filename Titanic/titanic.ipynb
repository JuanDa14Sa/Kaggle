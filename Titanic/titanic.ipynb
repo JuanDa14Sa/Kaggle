{
 "cells": [
  {
   "cell_type": "code",
   "execution_count": 1,
   "id": "d94dcf60",
   "metadata": {
    "_cell_guid": "b1076dfc-b9ad-4769-8c92-a6c4dae69d19",
    "_uuid": "8f2839f25d086af736a60e9eeb907d3b93b6e0e5",
    "execution": {
     "iopub.execute_input": "2022-08-23T21:36:48.056147Z",
     "iopub.status.busy": "2022-08-23T21:36:48.055731Z",
     "iopub.status.idle": "2022-08-23T21:36:48.996024Z",
     "shell.execute_reply": "2022-08-23T21:36:48.995100Z"
    },
    "papermill": {
     "duration": 0.950462,
     "end_time": "2022-08-23T21:36:48.998053",
     "exception": false,
     "start_time": "2022-08-23T21:36:48.047591",
     "status": "completed"
    },
    "tags": []
   },
   "outputs": [
    {
     "name": "stdout",
     "output_type": "stream",
     "text": [
      "/kaggle/input/titanic/train.csv\n",
      "/kaggle/input/titanic/test.csv\n",
      "/kaggle/input/titanic/gender_submission.csv\n"
     ]
    }
   ],
   "source": [
    "# This Python 3 environment comes with many helpful analytics libraries installed\n",
    "# It is defined by the kaggle/python Docker image: https://github.com/kaggle/docker-python\n",
    "# For example, here's several helpful packages to load\n",
    "\n",
    "import numpy as np # linear algebra\n",
    "import pandas as pd # data processing, CSV file I/O (e.g. pd.read_csv)\n",
    "import matplotlib.pyplot as plt\n",
    "import seaborn as sns\n",
    "# Input data files are available in the read-only \"../input/\" directory\n",
    "# For example, running this (by clicking run or pressing Shift+Enter) will list all files under the input directory\n",
    "\n",
    "import os\n",
    "for dirname, _, filenames in os.walk('/kaggle/input'):\n",
    "    for filename in filenames:\n",
    "        print(os.path.join(dirname, filename))\n",
    "\n",
    "# You can write up to 20GB to the current directory (/kaggle/working/) that gets preserved as output when you create a version using \"Save & Run All\" \n",
    "# You can also write temporary files to /kaggle/temp/, but they won't be saved outside of the current session"
   ]
  },
  {
   "cell_type": "markdown",
   "id": "d21203bc",
   "metadata": {
    "papermill": {
     "duration": 0.0056,
     "end_time": "2022-08-23T21:36:49.009870",
     "exception": false,
     "start_time": "2022-08-23T21:36:49.004270",
     "status": "completed"
    },
    "tags": []
   },
   "source": [
    "Load files"
   ]
  },
  {
   "cell_type": "code",
   "execution_count": 2,
   "id": "f8ebbc23",
   "metadata": {
    "execution": {
     "iopub.execute_input": "2022-08-23T21:36:49.022978Z",
     "iopub.status.busy": "2022-08-23T21:36:49.022409Z",
     "iopub.status.idle": "2022-08-23T21:36:49.073058Z",
     "shell.execute_reply": "2022-08-23T21:36:49.072085Z"
    },
    "papermill": {
     "duration": 0.05932,
     "end_time": "2022-08-23T21:36:49.074955",
     "exception": false,
     "start_time": "2022-08-23T21:36:49.015635",
     "status": "completed"
    },
    "tags": []
   },
   "outputs": [
    {
     "data": {
      "text/html": [
       "<div>\n",
       "<style scoped>\n",
       "    .dataframe tbody tr th:only-of-type {\n",
       "        vertical-align: middle;\n",
       "    }\n",
       "\n",
       "    .dataframe tbody tr th {\n",
       "        vertical-align: top;\n",
       "    }\n",
       "\n",
       "    .dataframe thead th {\n",
       "        text-align: right;\n",
       "    }\n",
       "</style>\n",
       "<table border=\"1\" class=\"dataframe\">\n",
       "  <thead>\n",
       "    <tr style=\"text-align: right;\">\n",
       "      <th></th>\n",
       "      <th>Survived</th>\n",
       "      <th>Pclass</th>\n",
       "      <th>Name</th>\n",
       "      <th>Sex</th>\n",
       "      <th>Age</th>\n",
       "      <th>SibSp</th>\n",
       "      <th>Parch</th>\n",
       "      <th>Ticket</th>\n",
       "      <th>Fare</th>\n",
       "      <th>Cabin</th>\n",
       "      <th>Embarked</th>\n",
       "    </tr>\n",
       "    <tr>\n",
       "      <th>PassengerId</th>\n",
       "      <th></th>\n",
       "      <th></th>\n",
       "      <th></th>\n",
       "      <th></th>\n",
       "      <th></th>\n",
       "      <th></th>\n",
       "      <th></th>\n",
       "      <th></th>\n",
       "      <th></th>\n",
       "      <th></th>\n",
       "      <th></th>\n",
       "    </tr>\n",
       "  </thead>\n",
       "  <tbody>\n",
       "    <tr>\n",
       "      <th>1</th>\n",
       "      <td>0</td>\n",
       "      <td>3</td>\n",
       "      <td>Braund, Mr. Owen Harris</td>\n",
       "      <td>male</td>\n",
       "      <td>22.0</td>\n",
       "      <td>1</td>\n",
       "      <td>0</td>\n",
       "      <td>A/5 21171</td>\n",
       "      <td>7.2500</td>\n",
       "      <td>NaN</td>\n",
       "      <td>S</td>\n",
       "    </tr>\n",
       "    <tr>\n",
       "      <th>2</th>\n",
       "      <td>1</td>\n",
       "      <td>1</td>\n",
       "      <td>Cumings, Mrs. John Bradley (Florence Briggs Th...</td>\n",
       "      <td>female</td>\n",
       "      <td>38.0</td>\n",
       "      <td>1</td>\n",
       "      <td>0</td>\n",
       "      <td>PC 17599</td>\n",
       "      <td>71.2833</td>\n",
       "      <td>C85</td>\n",
       "      <td>C</td>\n",
       "    </tr>\n",
       "    <tr>\n",
       "      <th>3</th>\n",
       "      <td>1</td>\n",
       "      <td>3</td>\n",
       "      <td>Heikkinen, Miss. Laina</td>\n",
       "      <td>female</td>\n",
       "      <td>26.0</td>\n",
       "      <td>0</td>\n",
       "      <td>0</td>\n",
       "      <td>STON/O2. 3101282</td>\n",
       "      <td>7.9250</td>\n",
       "      <td>NaN</td>\n",
       "      <td>S</td>\n",
       "    </tr>\n",
       "    <tr>\n",
       "      <th>4</th>\n",
       "      <td>1</td>\n",
       "      <td>1</td>\n",
       "      <td>Futrelle, Mrs. Jacques Heath (Lily May Peel)</td>\n",
       "      <td>female</td>\n",
       "      <td>35.0</td>\n",
       "      <td>1</td>\n",
       "      <td>0</td>\n",
       "      <td>113803</td>\n",
       "      <td>53.1000</td>\n",
       "      <td>C123</td>\n",
       "      <td>S</td>\n",
       "    </tr>\n",
       "    <tr>\n",
       "      <th>5</th>\n",
       "      <td>0</td>\n",
       "      <td>3</td>\n",
       "      <td>Allen, Mr. William Henry</td>\n",
       "      <td>male</td>\n",
       "      <td>35.0</td>\n",
       "      <td>0</td>\n",
       "      <td>0</td>\n",
       "      <td>373450</td>\n",
       "      <td>8.0500</td>\n",
       "      <td>NaN</td>\n",
       "      <td>S</td>\n",
       "    </tr>\n",
       "    <tr>\n",
       "      <th>6</th>\n",
       "      <td>0</td>\n",
       "      <td>3</td>\n",
       "      <td>Moran, Mr. James</td>\n",
       "      <td>male</td>\n",
       "      <td>NaN</td>\n",
       "      <td>0</td>\n",
       "      <td>0</td>\n",
       "      <td>330877</td>\n",
       "      <td>8.4583</td>\n",
       "      <td>NaN</td>\n",
       "      <td>Q</td>\n",
       "    </tr>\n",
       "    <tr>\n",
       "      <th>7</th>\n",
       "      <td>0</td>\n",
       "      <td>1</td>\n",
       "      <td>McCarthy, Mr. Timothy J</td>\n",
       "      <td>male</td>\n",
       "      <td>54.0</td>\n",
       "      <td>0</td>\n",
       "      <td>0</td>\n",
       "      <td>17463</td>\n",
       "      <td>51.8625</td>\n",
       "      <td>E46</td>\n",
       "      <td>S</td>\n",
       "    </tr>\n",
       "    <tr>\n",
       "      <th>8</th>\n",
       "      <td>0</td>\n",
       "      <td>3</td>\n",
       "      <td>Palsson, Master. Gosta Leonard</td>\n",
       "      <td>male</td>\n",
       "      <td>2.0</td>\n",
       "      <td>3</td>\n",
       "      <td>1</td>\n",
       "      <td>349909</td>\n",
       "      <td>21.0750</td>\n",
       "      <td>NaN</td>\n",
       "      <td>S</td>\n",
       "    </tr>\n",
       "    <tr>\n",
       "      <th>9</th>\n",
       "      <td>1</td>\n",
       "      <td>3</td>\n",
       "      <td>Johnson, Mrs. Oscar W (Elisabeth Vilhelmina Berg)</td>\n",
       "      <td>female</td>\n",
       "      <td>27.0</td>\n",
       "      <td>0</td>\n",
       "      <td>2</td>\n",
       "      <td>347742</td>\n",
       "      <td>11.1333</td>\n",
       "      <td>NaN</td>\n",
       "      <td>S</td>\n",
       "    </tr>\n",
       "    <tr>\n",
       "      <th>10</th>\n",
       "      <td>1</td>\n",
       "      <td>2</td>\n",
       "      <td>Nasser, Mrs. Nicholas (Adele Achem)</td>\n",
       "      <td>female</td>\n",
       "      <td>14.0</td>\n",
       "      <td>1</td>\n",
       "      <td>0</td>\n",
       "      <td>237736</td>\n",
       "      <td>30.0708</td>\n",
       "      <td>NaN</td>\n",
       "      <td>C</td>\n",
       "    </tr>\n",
       "  </tbody>\n",
       "</table>\n",
       "</div>"
      ],
      "text/plain": [
       "             Survived  Pclass  \\\n",
       "PassengerId                     \n",
       "1                   0       3   \n",
       "2                   1       1   \n",
       "3                   1       3   \n",
       "4                   1       1   \n",
       "5                   0       3   \n",
       "6                   0       3   \n",
       "7                   0       1   \n",
       "8                   0       3   \n",
       "9                   1       3   \n",
       "10                  1       2   \n",
       "\n",
       "                                                          Name     Sex   Age  \\\n",
       "PassengerId                                                                    \n",
       "1                                      Braund, Mr. Owen Harris    male  22.0   \n",
       "2            Cumings, Mrs. John Bradley (Florence Briggs Th...  female  38.0   \n",
       "3                                       Heikkinen, Miss. Laina  female  26.0   \n",
       "4                 Futrelle, Mrs. Jacques Heath (Lily May Peel)  female  35.0   \n",
       "5                                     Allen, Mr. William Henry    male  35.0   \n",
       "6                                             Moran, Mr. James    male   NaN   \n",
       "7                                      McCarthy, Mr. Timothy J    male  54.0   \n",
       "8                               Palsson, Master. Gosta Leonard    male   2.0   \n",
       "9            Johnson, Mrs. Oscar W (Elisabeth Vilhelmina Berg)  female  27.0   \n",
       "10                         Nasser, Mrs. Nicholas (Adele Achem)  female  14.0   \n",
       "\n",
       "             SibSp  Parch            Ticket     Fare Cabin Embarked  \n",
       "PassengerId                                                          \n",
       "1                1      0         A/5 21171   7.2500   NaN        S  \n",
       "2                1      0          PC 17599  71.2833   C85        C  \n",
       "3                0      0  STON/O2. 3101282   7.9250   NaN        S  \n",
       "4                1      0            113803  53.1000  C123        S  \n",
       "5                0      0            373450   8.0500   NaN        S  \n",
       "6                0      0            330877   8.4583   NaN        Q  \n",
       "7                0      0             17463  51.8625   E46        S  \n",
       "8                3      1            349909  21.0750   NaN        S  \n",
       "9                0      2            347742  11.1333   NaN        S  \n",
       "10               1      0            237736  30.0708   NaN        C  "
      ]
     },
     "execution_count": 2,
     "metadata": {},
     "output_type": "execute_result"
    }
   ],
   "source": [
    "train_df = pd.read_csv('/kaggle/input/titanic/train.csv')\n",
    "\n",
    "test_df = pd.read_csv('/kaggle/input/titanic/test.csv')\n",
    "\n",
    "train_df=train_df.set_index('PassengerId')\n",
    "train_df.head(10)"
   ]
  },
  {
   "cell_type": "markdown",
   "id": "e22fa0cf",
   "metadata": {
    "papermill": {
     "duration": 0.005553,
     "end_time": "2022-08-23T21:36:49.086567",
     "exception": false,
     "start_time": "2022-08-23T21:36:49.081014",
     "status": "completed"
    },
    "tags": []
   },
   "source": [
    "Cabin, Name and Ticket attributes are going to be deleted."
   ]
  },
  {
   "cell_type": "code",
   "execution_count": 3,
   "id": "a6095512",
   "metadata": {
    "execution": {
     "iopub.execute_input": "2022-08-23T21:36:49.099486Z",
     "iopub.status.busy": "2022-08-23T21:36:49.099143Z",
     "iopub.status.idle": "2022-08-23T21:36:49.108718Z",
     "shell.execute_reply": "2022-08-23T21:36:49.107278Z"
    },
    "papermill": {
     "duration": 0.018721,
     "end_time": "2022-08-23T21:36:49.110998",
     "exception": false,
     "start_time": "2022-08-23T21:36:49.092277",
     "status": "completed"
    },
    "tags": []
   },
   "outputs": [],
   "source": [
    "train_df = train_df.drop(['Cabin','Name', 'Ticket'],axis=1)"
   ]
  },
  {
   "cell_type": "code",
   "execution_count": 4,
   "id": "845bb476",
   "metadata": {
    "execution": {
     "iopub.execute_input": "2022-08-23T21:36:49.124674Z",
     "iopub.status.busy": "2022-08-23T21:36:49.124099Z",
     "iopub.status.idle": "2022-08-23T21:36:49.139826Z",
     "shell.execute_reply": "2022-08-23T21:36:49.138421Z"
    },
    "papermill": {
     "duration": 0.024603,
     "end_time": "2022-08-23T21:36:49.141734",
     "exception": false,
     "start_time": "2022-08-23T21:36:49.117131",
     "status": "completed"
    },
    "tags": []
   },
   "outputs": [
    {
     "name": "stdout",
     "output_type": "stream",
     "text": [
      "<class 'pandas.core.frame.DataFrame'>\n",
      "Int64Index: 891 entries, 1 to 891\n",
      "Data columns (total 8 columns):\n",
      " #   Column    Non-Null Count  Dtype  \n",
      "---  ------    --------------  -----  \n",
      " 0   Survived  891 non-null    int64  \n",
      " 1   Pclass    891 non-null    int64  \n",
      " 2   Sex       891 non-null    object \n",
      " 3   Age       714 non-null    float64\n",
      " 4   SibSp     891 non-null    int64  \n",
      " 5   Parch     891 non-null    int64  \n",
      " 6   Fare      891 non-null    float64\n",
      " 7   Embarked  889 non-null    object \n",
      "dtypes: float64(2), int64(4), object(2)\n",
      "memory usage: 62.6+ KB\n"
     ]
    }
   ],
   "source": [
    "train_df.info()"
   ]
  },
  {
   "cell_type": "markdown",
   "id": "2181333f",
   "metadata": {
    "papermill": {
     "duration": 0.005666,
     "end_time": "2022-08-23T21:36:49.154016",
     "exception": false,
     "start_time": "2022-08-23T21:36:49.148350",
     "status": "completed"
    },
    "tags": []
   },
   "source": [
    "There are missing values on some attributes."
   ]
  },
  {
   "cell_type": "code",
   "execution_count": 5,
   "id": "bf9c3a5b",
   "metadata": {
    "execution": {
     "iopub.execute_input": "2022-08-23T21:36:49.167622Z",
     "iopub.status.busy": "2022-08-23T21:36:49.166673Z",
     "iopub.status.idle": "2022-08-23T21:36:49.192362Z",
     "shell.execute_reply": "2022-08-23T21:36:49.191482Z"
    },
    "papermill": {
     "duration": 0.034332,
     "end_time": "2022-08-23T21:36:49.194180",
     "exception": false,
     "start_time": "2022-08-23T21:36:49.159848",
     "status": "completed"
    },
    "tags": []
   },
   "outputs": [
    {
     "data": {
      "text/html": [
       "<div>\n",
       "<style scoped>\n",
       "    .dataframe tbody tr th:only-of-type {\n",
       "        vertical-align: middle;\n",
       "    }\n",
       "\n",
       "    .dataframe tbody tr th {\n",
       "        vertical-align: top;\n",
       "    }\n",
       "\n",
       "    .dataframe thead th {\n",
       "        text-align: right;\n",
       "    }\n",
       "</style>\n",
       "<table border=\"1\" class=\"dataframe\">\n",
       "  <thead>\n",
       "    <tr style=\"text-align: right;\">\n",
       "      <th></th>\n",
       "      <th>Survived</th>\n",
       "      <th>Pclass</th>\n",
       "      <th>Age</th>\n",
       "      <th>SibSp</th>\n",
       "      <th>Parch</th>\n",
       "      <th>Fare</th>\n",
       "    </tr>\n",
       "  </thead>\n",
       "  <tbody>\n",
       "    <tr>\n",
       "      <th>count</th>\n",
       "      <td>891.000000</td>\n",
       "      <td>891.000000</td>\n",
       "      <td>714.000000</td>\n",
       "      <td>891.000000</td>\n",
       "      <td>891.000000</td>\n",
       "      <td>891.000000</td>\n",
       "    </tr>\n",
       "    <tr>\n",
       "      <th>mean</th>\n",
       "      <td>0.383838</td>\n",
       "      <td>2.308642</td>\n",
       "      <td>29.699118</td>\n",
       "      <td>0.523008</td>\n",
       "      <td>0.381594</td>\n",
       "      <td>32.204208</td>\n",
       "    </tr>\n",
       "    <tr>\n",
       "      <th>std</th>\n",
       "      <td>0.486592</td>\n",
       "      <td>0.836071</td>\n",
       "      <td>14.526497</td>\n",
       "      <td>1.102743</td>\n",
       "      <td>0.806057</td>\n",
       "      <td>49.693429</td>\n",
       "    </tr>\n",
       "    <tr>\n",
       "      <th>min</th>\n",
       "      <td>0.000000</td>\n",
       "      <td>1.000000</td>\n",
       "      <td>0.420000</td>\n",
       "      <td>0.000000</td>\n",
       "      <td>0.000000</td>\n",
       "      <td>0.000000</td>\n",
       "    </tr>\n",
       "    <tr>\n",
       "      <th>25%</th>\n",
       "      <td>0.000000</td>\n",
       "      <td>2.000000</td>\n",
       "      <td>20.125000</td>\n",
       "      <td>0.000000</td>\n",
       "      <td>0.000000</td>\n",
       "      <td>7.910400</td>\n",
       "    </tr>\n",
       "    <tr>\n",
       "      <th>50%</th>\n",
       "      <td>0.000000</td>\n",
       "      <td>3.000000</td>\n",
       "      <td>28.000000</td>\n",
       "      <td>0.000000</td>\n",
       "      <td>0.000000</td>\n",
       "      <td>14.454200</td>\n",
       "    </tr>\n",
       "    <tr>\n",
       "      <th>75%</th>\n",
       "      <td>1.000000</td>\n",
       "      <td>3.000000</td>\n",
       "      <td>38.000000</td>\n",
       "      <td>1.000000</td>\n",
       "      <td>0.000000</td>\n",
       "      <td>31.000000</td>\n",
       "    </tr>\n",
       "    <tr>\n",
       "      <th>max</th>\n",
       "      <td>1.000000</td>\n",
       "      <td>3.000000</td>\n",
       "      <td>80.000000</td>\n",
       "      <td>8.000000</td>\n",
       "      <td>6.000000</td>\n",
       "      <td>512.329200</td>\n",
       "    </tr>\n",
       "  </tbody>\n",
       "</table>\n",
       "</div>"
      ],
      "text/plain": [
       "         Survived      Pclass         Age       SibSp       Parch        Fare\n",
       "count  891.000000  891.000000  714.000000  891.000000  891.000000  891.000000\n",
       "mean     0.383838    2.308642   29.699118    0.523008    0.381594   32.204208\n",
       "std      0.486592    0.836071   14.526497    1.102743    0.806057   49.693429\n",
       "min      0.000000    1.000000    0.420000    0.000000    0.000000    0.000000\n",
       "25%      0.000000    2.000000   20.125000    0.000000    0.000000    7.910400\n",
       "50%      0.000000    3.000000   28.000000    0.000000    0.000000   14.454200\n",
       "75%      1.000000    3.000000   38.000000    1.000000    0.000000   31.000000\n",
       "max      1.000000    3.000000   80.000000    8.000000    6.000000  512.329200"
      ]
     },
     "execution_count": 5,
     "metadata": {},
     "output_type": "execute_result"
    }
   ],
   "source": [
    "train_df.describe()"
   ]
  },
  {
   "cell_type": "markdown",
   "id": "0fb8f3a0",
   "metadata": {
    "papermill": {
     "duration": 0.006063,
     "end_time": "2022-08-23T21:36:49.206920",
     "exception": false,
     "start_time": "2022-08-23T21:36:49.200857",
     "status": "completed"
    },
    "tags": []
   },
   "source": [
    "<h4>Splitting data</h4>\n",
    "In this case, we are creating a validation set from the train set."
   ]
  },
  {
   "cell_type": "code",
   "execution_count": 6,
   "id": "1b2327a4",
   "metadata": {
    "execution": {
     "iopub.execute_input": "2022-08-23T21:36:49.220694Z",
     "iopub.status.busy": "2022-08-23T21:36:49.220312Z",
     "iopub.status.idle": "2022-08-23T21:36:49.386709Z",
     "shell.execute_reply": "2022-08-23T21:36:49.385828Z"
    },
    "papermill": {
     "duration": 0.175922,
     "end_time": "2022-08-23T21:36:49.388977",
     "exception": false,
     "start_time": "2022-08-23T21:36:49.213055",
     "status": "completed"
    },
    "tags": []
   },
   "outputs": [],
   "source": [
    "from sklearn.model_selection import train_test_split\n",
    "\n",
    "train_set, val_set= train_test_split(train_df,test_size=0.3)\n"
   ]
  },
  {
   "cell_type": "markdown",
   "id": "cdc9c8f4",
   "metadata": {
    "papermill": {
     "duration": 0.006388,
     "end_time": "2022-08-23T21:36:49.402488",
     "exception": false,
     "start_time": "2022-08-23T21:36:49.396100",
     "status": "completed"
    },
    "tags": []
   },
   "source": [
    "<h3>EDA</h3>"
   ]
  },
  {
   "cell_type": "code",
   "execution_count": 7,
   "id": "f38f5900",
   "metadata": {
    "execution": {
     "iopub.execute_input": "2022-08-23T21:36:49.416696Z",
     "iopub.status.busy": "2022-08-23T21:36:49.416359Z",
     "iopub.status.idle": "2022-08-23T21:36:50.061971Z",
     "shell.execute_reply": "2022-08-23T21:36:50.061091Z"
    },
    "papermill": {
     "duration": 0.655025,
     "end_time": "2022-08-23T21:36:50.063761",
     "exception": false,
     "start_time": "2022-08-23T21:36:49.408736",
     "status": "completed"
    },
    "tags": []
   },
   "outputs": [
    {
     "data": {
      "text/plain": [
       "array([[<AxesSubplot:title={'center':'Survived'}>,\n",
       "        <AxesSubplot:title={'center':'Pclass'}>],\n",
       "       [<AxesSubplot:title={'center':'Age'}>,\n",
       "        <AxesSubplot:title={'center':'SibSp'}>],\n",
       "       [<AxesSubplot:title={'center':'Parch'}>,\n",
       "        <AxesSubplot:title={'center':'Fare'}>]], dtype=object)"
      ]
     },
     "execution_count": 7,
     "metadata": {},
     "output_type": "execute_result"
    },
    {
     "data": {
      "image/png": "[encoded data removed]",
      "text/plain": [
       "<Figure size 720x720 with 6 Axes>"
      ]
     },
     "metadata": {
      "needs_background": "light"
     },
     "output_type": "display_data"
    }
   ],
   "source": [
    "train_set.hist(figsize=(10,10),grid=False)"
   ]
  },
  {
   "cell_type": "code",
   "execution_count": 8,
   "id": "2f946915",
   "metadata": {
    "execution": {
     "iopub.execute_input": "2022-08-23T21:36:50.078918Z",
     "iopub.status.busy": "2022-08-23T21:36:50.078581Z",
     "iopub.status.idle": "2022-08-23T21:36:50.199274Z",
     "shell.execute_reply": "2022-08-23T21:36:50.198544Z"
    },
    "papermill": {
     "duration": 0.130944,
     "end_time": "2022-08-23T21:36:50.201365",
     "exception": false,
     "start_time": "2022-08-23T21:36:50.070421",
     "status": "completed"
    },
    "tags": []
   },
   "outputs": [
    {
     "data": {
      "text/plain": [
       "<AxesSubplot:>"
      ]
     },
     "execution_count": 8,
     "metadata": {},
     "output_type": "execute_result"
    },
    {
     "data": {
      "image/png": "[encoded data removed]",
      "text/plain": [
       "<Figure size 432x288 with 1 Axes>"
      ]
     },
     "metadata": {
      "needs_background": "light"
     },
     "output_type": "display_data"
    }
   ],
   "source": [
    "train_set['Sex'].value_counts().plot(kind='bar')"
   ]
  },
  {
   "cell_type": "code",
   "execution_count": 9,
   "id": "d3a6483d",
   "metadata": {
    "execution": {
     "iopub.execute_input": "2022-08-23T21:36:50.221057Z",
     "iopub.status.busy": "2022-08-23T21:36:50.220686Z",
     "iopub.status.idle": "2022-08-23T21:36:50.323516Z",
     "shell.execute_reply": "2022-08-23T21:36:50.322676Z"
    },
    "papermill": {
     "duration": 0.115144,
     "end_time": "2022-08-23T21:36:50.325759",
     "exception": false,
     "start_time": "2022-08-23T21:36:50.210615",
     "status": "completed"
    },
    "tags": []
   },
   "outputs": [
    {
     "data": {
      "text/plain": [
       "<AxesSubplot:>"
      ]
     },
     "execution_count": 9,
     "metadata": {},
     "output_type": "execute_result"
    },
    {
     "data": {
      "image/png": "[encoded data removed]",
      "text/plain": [
       "<Figure size 432x288 with 1 Axes>"
      ]
     },
     "metadata": {
      "needs_background": "light"
     },
     "output_type": "display_data"
    }
   ],
   "source": [
    "train_set['Embarked'].value_counts().plot(kind='bar')"
   ]
  },
  {
   "cell_type": "markdown",
   "id": "d9f977f0",
   "metadata": {
    "papermill": {
     "duration": 0.008972,
     "end_time": "2022-08-23T21:36:50.344327",
     "exception": false,
     "start_time": "2022-08-23T21:36:50.335355",
     "status": "completed"
    },
    "tags": []
   },
   "source": [
    "<h3>Prepare Data</h3>"
   ]
  },
  {
   "cell_type": "code",
   "execution_count": 10,
   "id": "1536919e",
   "metadata": {
    "execution": {
     "iopub.execute_input": "2022-08-23T21:36:50.364084Z",
     "iopub.status.busy": "2022-08-23T21:36:50.363726Z",
     "iopub.status.idle": "2022-08-23T21:36:50.369908Z",
     "shell.execute_reply": "2022-08-23T21:36:50.369180Z"
    },
    "papermill": {
     "duration": 0.018025,
     "end_time": "2022-08-23T21:36:50.371517",
     "exception": false,
     "start_time": "2022-08-23T21:36:50.353492",
     "status": "completed"
    },
    "tags": []
   },
   "outputs": [],
   "source": [
    "train_X = train_set.drop('Survived',axis=1)\n",
    "train_y = train_set['Survived']\n",
    "\n",
    "val_X = val_set.drop('Survived', axis=1)\n",
    "val_y= val_set['Survived']"
   ]
  },
  {
   "cell_type": "code",
   "execution_count": 11,
   "id": "2d066815",
   "metadata": {
    "execution": {
     "iopub.execute_input": "2022-08-23T21:36:50.387824Z",
     "iopub.status.busy": "2022-08-23T21:36:50.386678Z",
     "iopub.status.idle": "2022-08-23T21:36:50.508785Z",
     "shell.execute_reply": "2022-08-23T21:36:50.507974Z"
    },
    "papermill": {
     "duration": 0.132192,
     "end_time": "2022-08-23T21:36:50.510997",
     "exception": false,
     "start_time": "2022-08-23T21:36:50.378805",
     "status": "completed"
    },
    "tags": []
   },
   "outputs": [],
   "source": [
    "from sklearn.pipeline import Pipeline\n",
    "from sklearn.impute import SimpleImputer\n",
    "from sklearn.preprocessing import StandardScaler\n",
    "\n",
    "num_pipeline = Pipeline([\n",
    "    ('imputer', SimpleImputer(strategy='mean')) ,\n",
    "    ('std_scaler', StandardScaler())\n",
    "])"
   ]
  },
  {
   "cell_type": "code",
   "execution_count": 12,
   "id": "1fa8e166",
   "metadata": {
    "execution": {
     "iopub.execute_input": "2022-08-23T21:36:50.526203Z",
     "iopub.status.busy": "2022-08-23T21:36:50.525898Z",
     "iopub.status.idle": "2022-08-23T21:36:50.534452Z",
     "shell.execute_reply": "2022-08-23T21:36:50.533848Z"
    },
    "papermill": {
     "duration": 0.018056,
     "end_time": "2022-08-23T21:36:50.536256",
     "exception": false,
     "start_time": "2022-08-23T21:36:50.518200",
     "status": "completed"
    },
    "tags": []
   },
   "outputs": [],
   "source": [
    "from sklearn.compose import ColumnTransformer\n",
    "from sklearn.preprocessing import OneHotEncoder\n",
    "\n",
    "num_attr = ['Pclass','Age','SibSp','Parch','Fare']\n",
    "cat_attr = ['Embarked','Sex']\n",
    "\n",
    "full_pipeline = ColumnTransformer([\n",
    "    ('num', num_pipeline, num_attr),\n",
    "    ('cat', OneHotEncoder(),cat_attr)\n",
    "])"
   ]
  },
  {
   "cell_type": "code",
   "execution_count": 13,
   "id": "0b4cf108",
   "metadata": {
    "execution": {
     "iopub.execute_input": "2022-08-23T21:36:50.552302Z",
     "iopub.status.busy": "2022-08-23T21:36:50.551512Z",
     "iopub.status.idle": "2022-08-23T21:36:50.564757Z",
     "shell.execute_reply": "2022-08-23T21:36:50.563944Z"
    },
    "papermill": {
     "duration": 0.023162,
     "end_time": "2022-08-23T21:36:50.566610",
     "exception": false,
     "start_time": "2022-08-23T21:36:50.543448",
     "status": "completed"
    },
    "tags": []
   },
   "outputs": [],
   "source": [
    "train_X_final = full_pipeline.fit_transform(train_X)"
   ]
  },
  {
   "cell_type": "markdown",
   "id": "c13f7be8",
   "metadata": {
    "papermill": {
     "duration": 0.006943,
     "end_time": "2022-08-23T21:36:50.580993",
     "exception": false,
     "start_time": "2022-08-23T21:36:50.574050",
     "status": "completed"
    },
    "tags": []
   },
   "source": [
    "<h3>Training models</h3>"
   ]
  },
  {
   "cell_type": "code",
   "execution_count": 14,
   "id": "9e653973",
   "metadata": {
    "execution": {
     "iopub.execute_input": "2022-08-23T21:36:50.596585Z",
     "iopub.status.busy": "2022-08-23T21:36:50.596261Z",
     "iopub.status.idle": "2022-08-23T21:36:50.851711Z",
     "shell.execute_reply": "2022-08-23T21:36:50.850693Z"
    },
    "papermill": {
     "duration": 0.265639,
     "end_time": "2022-08-23T21:36:50.853687",
     "exception": false,
     "start_time": "2022-08-23T21:36:50.588048",
     "status": "completed"
    },
    "tags": []
   },
   "outputs": [
    {
     "name": "stdout",
     "output_type": "stream",
     "text": [
      "78.35820895522389 %\n"
     ]
    }
   ],
   "source": [
    "from sklearn.ensemble import RandomForestClassifier\n",
    "from sklearn.metrics import accuracy_score\n",
    "\n",
    "forest_model = RandomForestClassifier()\n",
    "forest_model.fit(train_X_final,train_y)\n",
    "\n",
    "val_X_final= full_pipeline.transform(val_X)\n",
    "\n",
    "predict_val = forest_model.predict(val_X_final)\n",
    "print(accuracy_score(val_y,predict_val)*100,'%')"
   ]
  },
  {
   "cell_type": "code",
   "execution_count": 15,
   "id": "90858293",
   "metadata": {
    "execution": {
     "iopub.execute_input": "2022-08-23T21:36:50.869244Z",
     "iopub.status.busy": "2022-08-23T21:36:50.868953Z",
     "iopub.status.idle": "2022-08-23T21:36:52.070654Z",
     "shell.execute_reply": "2022-08-23T21:36:52.069931Z"
    },
    "papermill": {
     "duration": 1.211618,
     "end_time": "2022-08-23T21:36:52.072674",
     "exception": false,
     "start_time": "2022-08-23T21:36:50.861056",
     "status": "completed"
    },
    "tags": []
   },
   "outputs": [
    {
     "name": "stdout",
     "output_type": "stream",
     "text": [
      "81.71641791044776 %\n"
     ]
    }
   ],
   "source": [
    "from sklearn.neural_network import MLPClassifier\n",
    "\n",
    "mlp_model = MLPClassifier(learning_rate_init=0.001,max_iter=1000)\n",
    "mlp_model.fit(train_X_final,train_y)\n",
    "\n",
    "predict_val = mlp_model.predict(val_X_final)\n",
    "print(accuracy_score(val_y,predict_val)*100,'%')"
   ]
  },
  {
   "cell_type": "markdown",
   "id": "07834e2c",
   "metadata": {
    "papermill": {
     "duration": 0.009318,
     "end_time": "2022-08-23T21:36:52.091647",
     "exception": false,
     "start_time": "2022-08-23T21:36:52.082329",
     "status": "completed"
    },
    "tags": []
   },
   "source": [
    "We are going to use RandomForestClassifier for the time being"
   ]
  },
  {
   "cell_type": "markdown",
   "id": "d6bd8562",
   "metadata": {
    "papermill": {
     "duration": 0.009054,
     "end_time": "2022-08-23T21:36:52.110160",
     "exception": false,
     "start_time": "2022-08-23T21:36:52.101106",
     "status": "completed"
    },
    "tags": []
   },
   "source": [
    "<h3>Hyper-Parameter Tuning</h3>\n",
    "Using GridSearch"
   ]
  },
  {
   "cell_type": "code",
   "execution_count": 16,
   "id": "bc094290",
   "metadata": {
    "execution": {
     "iopub.execute_input": "2022-08-23T21:36:52.130211Z",
     "iopub.status.busy": "2022-08-23T21:36:52.129875Z",
     "iopub.status.idle": "2022-08-23T21:38:06.578744Z",
     "shell.execute_reply": "2022-08-23T21:38:06.577807Z"
    },
    "papermill": {
     "duration": 74.464071,
     "end_time": "2022-08-23T21:38:06.583638",
     "exception": false,
     "start_time": "2022-08-23T21:36:52.119567",
     "status": "completed"
    },
    "tags": []
   },
   "outputs": [
    {
     "data": {
      "text/plain": [
       "GridSearchCV(cv=5, estimator=RandomForestClassifier(),\n",
       "             param_grid=[{'max_depth': [None, 10, 100, 1000],\n",
       "                          'max_features': ['sqrt', 1.0],\n",
       "                          'n_estimators': [10, 100, 1000]}],\n",
       "             return_train_score=True, scoring='accuracy')"
      ]
     },
     "execution_count": 16,
     "metadata": {},
     "output_type": "execute_result"
    }
   ],
   "source": [
    "from sklearn.model_selection import GridSearchCV\n",
    "\n",
    "param_grid = [\n",
    "    {'n_estimators':[10,100,1000],'max_features':['sqrt',1.0], 'max_depth':[None,10,100,1000]}\n",
    "]\n",
    "\n",
    "forest = RandomForestClassifier()\n",
    "grid = GridSearchCV(forest,param_grid,cv=5,scoring='accuracy',return_train_score=True)\n",
    "grid.fit(train_X_final,train_y)"
   ]
  },
  {
   "cell_type": "code",
   "execution_count": 17,
   "id": "fc928cfd",
   "metadata": {
    "execution": {
     "iopub.execute_input": "2022-08-23T21:38:06.599936Z",
     "iopub.status.busy": "2022-08-23T21:38:06.599160Z",
     "iopub.status.idle": "2022-08-23T21:38:06.605612Z",
     "shell.execute_reply": "2022-08-23T21:38:06.604174Z"
    },
    "papermill": {
     "duration": 0.01656,
     "end_time": "2022-08-23T21:38:06.607544",
     "exception": false,
     "start_time": "2022-08-23T21:38:06.590984",
     "status": "completed"
    },
    "tags": []
   },
   "outputs": [
    {
     "name": "stdout",
     "output_type": "stream",
     "text": [
      "0.7898709677419355 {'max_depth': None, 'max_features': 'sqrt', 'n_estimators': 10}\n",
      "0.7961935483870969 {'max_depth': None, 'max_features': 'sqrt', 'n_estimators': 100}\n",
      "0.7978064516129033 {'max_depth': None, 'max_features': 'sqrt', 'n_estimators': 1000}\n",
      "0.7817290322580646 {'max_depth': None, 'max_features': 1.0, 'n_estimators': 10}\n",
      "0.8106451612903227 {'max_depth': None, 'max_features': 1.0, 'n_estimators': 100}\n",
      "0.809058064516129 {'max_depth': None, 'max_features': 1.0, 'n_estimators': 1000}\n",
      "0.8106967741935485 {'max_depth': 10, 'max_features': 'sqrt', 'n_estimators': 10}\n",
      "0.8058580645161291 {'max_depth': 10, 'max_features': 'sqrt', 'n_estimators': 100}\n",
      "0.8106580645161291 {'max_depth': 10, 'max_features': 'sqrt', 'n_estimators': 1000}\n",
      "0.8122193548387099 {'max_depth': 10, 'max_features': 1.0, 'n_estimators': 10}\n",
      "0.8315096774193549 {'max_depth': 10, 'max_features': 1.0, 'n_estimators': 100}\n",
      "0.8283096774193549 {'max_depth': 10, 'max_features': 1.0, 'n_estimators': 1000}\n",
      "0.794567741935484 {'max_depth': 100, 'max_features': 'sqrt', 'n_estimators': 10}\n",
      "0.7977935483870968 {'max_depth': 100, 'max_features': 'sqrt', 'n_estimators': 100}\n",
      "0.7978064516129033 {'max_depth': 100, 'max_features': 'sqrt', 'n_estimators': 1000}\n",
      "0.8106838709677421 {'max_depth': 100, 'max_features': 1.0, 'n_estimators': 10}\n",
      "0.8074709677419356 {'max_depth': 100, 'max_features': 1.0, 'n_estimators': 100}\n",
      "0.8058451612903227 {'max_depth': 100, 'max_features': 1.0, 'n_estimators': 1000}\n",
      "0.7865935483870968 {'max_depth': 1000, 'max_features': 'sqrt', 'n_estimators': 10}\n",
      "0.7946193548387097 {'max_depth': 1000, 'max_features': 'sqrt', 'n_estimators': 100}\n",
      "0.7978193548387098 {'max_depth': 1000, 'max_features': 'sqrt', 'n_estimators': 1000}\n",
      "0.7962322580645161 {'max_depth': 1000, 'max_features': 1.0, 'n_estimators': 10}\n",
      "0.8074580645161291 {'max_depth': 1000, 'max_features': 1.0, 'n_estimators': 100}\n",
      "0.8122709677419355 {'max_depth': 1000, 'max_features': 1.0, 'n_estimators': 1000}\n"
     ]
    }
   ],
   "source": [
    "results = grid.cv_results_\n",
    "for m,p in zip(results['mean_test_score'],results['params']):\n",
    "    print(m,p)"
   ]
  },
  {
   "cell_type": "code",
   "execution_count": 18,
   "id": "91feacf6",
   "metadata": {
    "execution": {
     "iopub.execute_input": "2022-08-23T21:38:06.623929Z",
     "iopub.status.busy": "2022-08-23T21:38:06.623312Z",
     "iopub.status.idle": "2022-08-23T21:38:06.629248Z",
     "shell.execute_reply": "2022-08-23T21:38:06.628354Z"
    },
    "papermill": {
     "duration": 0.015993,
     "end_time": "2022-08-23T21:38:06.630968",
     "exception": false,
     "start_time": "2022-08-23T21:38:06.614975",
     "status": "completed"
    },
    "tags": []
   },
   "outputs": [
    {
     "data": {
      "text/plain": [
       "{'max_depth': 10, 'max_features': 1.0, 'n_estimators': 100}"
      ]
     },
     "execution_count": 18,
     "metadata": {},
     "output_type": "execute_result"
    }
   ],
   "source": [
    "grid.best_params_"
   ]
  },
  {
   "cell_type": "code",
   "execution_count": 19,
   "id": "88ca5f0f",
   "metadata": {
    "execution": {
     "iopub.execute_input": "2022-08-23T21:38:06.647588Z",
     "iopub.status.busy": "2022-08-23T21:38:06.647301Z",
     "iopub.status.idle": "2022-08-23T21:38:06.879056Z",
     "shell.execute_reply": "2022-08-23T21:38:06.878351Z"
    },
    "papermill": {
     "duration": 0.242808,
     "end_time": "2022-08-23T21:38:06.881366",
     "exception": false,
     "start_time": "2022-08-23T21:38:06.638558",
     "status": "completed"
    },
    "tags": []
   },
   "outputs": [],
   "source": [
    "full_X = train_df.drop('Survived',axis=1)\n",
    "y = train_df['Survived']\n",
    "X= full_pipeline.transform(full_X)\n",
    "test_X=test_df[full_X.columns]\n",
    "test_X_final= full_pipeline.transform(test_X)\n",
    "\n",
    "full_forest_model =grid.best_estimator_\n",
    "full_forest_model.fit(X,y)\n",
    "\n",
    "\n",
    "\n",
    "predict_test = full_forest_model.predict(test_X_final)"
   ]
  },
  {
   "cell_type": "code",
   "execution_count": 20,
   "id": "073c6554",
   "metadata": {
    "execution": {
     "iopub.execute_input": "2022-08-23T21:38:06.898649Z",
     "iopub.status.busy": "2022-08-23T21:38:06.898026Z",
     "iopub.status.idle": "2022-08-23T21:38:06.905726Z",
     "shell.execute_reply": "2022-08-23T21:38:06.905108Z"
    },
    "papermill": {
     "duration": 0.018353,
     "end_time": "2022-08-23T21:38:06.907529",
     "exception": false,
     "start_time": "2022-08-23T21:38:06.889176",
     "status": "completed"
    },
    "tags": []
   },
   "outputs": [],
   "source": [
    "submission = pd.DataFrame({'PassengerId':test_df.PassengerId,'Survived':predict_test})\n",
    "submission.to_csv('submission.csv',index=False)"
   ]
  }
 ],
 "metadata": {
  "kernelspec": {
   "display_name": "Python 3",
   "language": "python",
   "name": "python3"
  },
  "language_info": {
   "codemirror_mode": {
    "name": "ipython",
    "version": 3
   },
   "file_extension": ".py",
   "mimetype": "text/x-python",
   "name": "python",
   "nbconvert_exporter": "python",
   "pygments_lexer": "ipython3",
   "version": "3.7.12"
  },
  "papermill": {
   "default_parameters": {},
   "duration": 87.052478,
   "end_time": "2022-08-23T21:38:07.635380",
   "environment_variables": {},
   "exception": null,
   "input_path": "__notebook__.ipynb",
   "output_path": "__notebook__.ipynb",
   "parameters": {},
   "start_time": "2022-08-23T21:36:40.582902",
   "version": "2.3.4"
  }
 },
 "nbformat": 4,
 "nbformat_minor": 5
}
