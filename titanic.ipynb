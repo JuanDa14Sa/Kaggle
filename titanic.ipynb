{
 "cells": [
  {
   "cell_type": "code",
   "execution_count": 1,
   "id": "fbef9db3",
   "metadata": {
    "_cell_guid": "b1076dfc-b9ad-4769-8c92-a6c4dae69d19",
    "_uuid": "8f2839f25d086af736a60e9eeb907d3b93b6e0e5",
    "execution": {
     "iopub.execute_input": "2022-08-22T23:33:17.390673Z",
     "iopub.status.busy": "2022-08-22T23:33:17.390285Z",
     "iopub.status.idle": "2022-08-22T23:33:18.301160Z",
     "shell.execute_reply": "2022-08-22T23:33:18.300245Z"
    },
    "papermill": {
     "duration": 0.919722,
     "end_time": "2022-08-22T23:33:18.303189",
     "exception": false,
     "start_time": "2022-08-22T23:33:17.383467",
     "status": "completed"
    },
    "tags": []
   },
   "outputs": [
    {
     "name": "stdout",
     "output_type": "stream",
     "text": [
      "/kaggle/input/titanic/train.csv\n",
      "/kaggle/input/titanic/test.csv\n",
      "/kaggle/input/titanic/gender_submission.csv\n"
     ]
    }
   ],
   "source": [
    "# This Python 3 environment comes with many helpful analytics libraries installed\n",
    "# It is defined by the kaggle/python Docker image: https://github.com/kaggle/docker-python\n",
    "# For example, here's several helpful packages to load\n",
    "\n",
    "import numpy as np # linear algebra\n",
    "import pandas as pd # data processing, CSV file I/O (e.g. pd.read_csv)\n",
    "import matplotlib.pyplot as plt\n",
    "import seaborn as sns\n",
    "# Input data files are available in the read-only \"../input/\" directory\n",
    "# For example, running this (by clicking run or pressing Shift+Enter) will list all files under the input directory\n",
    "\n",
    "import os\n",
    "for dirname, _, filenames in os.walk('/kaggle/input'):\n",
    "    for filename in filenames:\n",
    "        print(os.path.join(dirname, filename))\n",
    "\n",
    "# You can write up to 20GB to the current directory (/kaggle/working/) that gets preserved as output when you create a version using \"Save & Run All\" \n",
    "# You can also write temporary files to /kaggle/temp/, but they won't be saved outside of the current session"
   ]
  },
  {
   "cell_type": "markdown",
   "id": "3035c72b",
   "metadata": {
    "papermill": {
     "duration": 0.004579,
     "end_time": "2022-08-22T23:33:18.312829",
     "exception": false,
     "start_time": "2022-08-22T23:33:18.308250",
     "status": "completed"
    },
    "tags": []
   },
   "source": [
    "Load files"
   ]
  },
  {
   "cell_type": "code",
   "execution_count": 2,
   "id": "125f069d",
   "metadata": {
    "execution": {
     "iopub.execute_input": "2022-08-22T23:33:18.323795Z",
     "iopub.status.busy": "2022-08-22T23:33:18.322995Z",
     "iopub.status.idle": "2022-08-22T23:33:18.372542Z",
     "shell.execute_reply": "2022-08-22T23:33:18.371553Z"
    },
    "papermill": {
     "duration": 0.056842,
     "end_time": "2022-08-22T23:33:18.374334",
     "exception": false,
     "start_time": "2022-08-22T23:33:18.317492",
     "status": "completed"
    },
    "tags": []
   },
   "outputs": [
    {
     "data": {
      "text/html": [
       "<div>\n",
       "<style scoped>\n",
       "    .dataframe tbody tr th:only-of-type {\n",
       "        vertical-align: middle;\n",
       "    }\n",
       "\n",
       "    .dataframe tbody tr th {\n",
       "        vertical-align: top;\n",
       "    }\n",
       "\n",
       "    .dataframe thead th {\n",
       "        text-align: right;\n",
       "    }\n",
       "</style>\n",
       "<table border=\"1\" class=\"dataframe\">\n",
       "  <thead>\n",
       "    <tr style=\"text-align: right;\">\n",
       "      <th></th>\n",
       "      <th>Survived</th>\n",
       "      <th>Pclass</th>\n",
       "      <th>Name</th>\n",
       "      <th>Sex</th>\n",
       "      <th>Age</th>\n",
       "      <th>SibSp</th>\n",
       "      <th>Parch</th>\n",
       "      <th>Ticket</th>\n",
       "      <th>Fare</th>\n",
       "      <th>Cabin</th>\n",
       "      <th>Embarked</th>\n",
       "    </tr>\n",
       "    <tr>\n",
       "      <th>PassengerId</th>\n",
       "      <th></th>\n",
       "      <th></th>\n",
       "      <th></th>\n",
       "      <th></th>\n",
       "      <th></th>\n",
       "      <th></th>\n",
       "      <th></th>\n",
       "      <th></th>\n",
       "      <th></th>\n",
       "      <th></th>\n",
       "      <th></th>\n",
       "    </tr>\n",
       "  </thead>\n",
       "  <tbody>\n",
       "    <tr>\n",
       "      <th>1</th>\n",
       "      <td>0</td>\n",
       "      <td>3</td>\n",
       "      <td>Braund, Mr. Owen Harris</td>\n",
       "      <td>male</td>\n",
       "      <td>22.0</td>\n",
       "      <td>1</td>\n",
       "      <td>0</td>\n",
       "      <td>A/5 21171</td>\n",
       "      <td>7.2500</td>\n",
       "      <td>NaN</td>\n",
       "      <td>S</td>\n",
       "    </tr>\n",
       "    <tr>\n",
       "      <th>2</th>\n",
       "      <td>1</td>\n",
       "      <td>1</td>\n",
       "      <td>Cumings, Mrs. John Bradley (Florence Briggs Th...</td>\n",
       "      <td>female</td>\n",
       "      <td>38.0</td>\n",
       "      <td>1</td>\n",
       "      <td>0</td>\n",
       "      <td>PC 17599</td>\n",
       "      <td>71.2833</td>\n",
       "      <td>C85</td>\n",
       "      <td>C</td>\n",
       "    </tr>\n",
       "    <tr>\n",
       "      <th>3</th>\n",
       "      <td>1</td>\n",
       "      <td>3</td>\n",
       "      <td>Heikkinen, Miss. Laina</td>\n",
       "      <td>female</td>\n",
       "      <td>26.0</td>\n",
       "      <td>0</td>\n",
       "      <td>0</td>\n",
       "      <td>STON/O2. 3101282</td>\n",
       "      <td>7.9250</td>\n",
       "      <td>NaN</td>\n",
       "      <td>S</td>\n",
       "    </tr>\n",
       "    <tr>\n",
       "      <th>4</th>\n",
       "      <td>1</td>\n",
       "      <td>1</td>\n",
       "      <td>Futrelle, Mrs. Jacques Heath (Lily May Peel)</td>\n",
       "      <td>female</td>\n",
       "      <td>35.0</td>\n",
       "      <td>1</td>\n",
       "      <td>0</td>\n",
       "      <td>113803</td>\n",
       "      <td>53.1000</td>\n",
       "      <td>C123</td>\n",
       "      <td>S</td>\n",
       "    </tr>\n",
       "    <tr>\n",
       "      <th>5</th>\n",
       "      <td>0</td>\n",
       "      <td>3</td>\n",
       "      <td>Allen, Mr. William Henry</td>\n",
       "      <td>male</td>\n",
       "      <td>35.0</td>\n",
       "      <td>0</td>\n",
       "      <td>0</td>\n",
       "      <td>373450</td>\n",
       "      <td>8.0500</td>\n",
       "      <td>NaN</td>\n",
       "      <td>S</td>\n",
       "    </tr>\n",
       "    <tr>\n",
       "      <th>6</th>\n",
       "      <td>0</td>\n",
       "      <td>3</td>\n",
       "      <td>Moran, Mr. James</td>\n",
       "      <td>male</td>\n",
       "      <td>NaN</td>\n",
       "      <td>0</td>\n",
       "      <td>0</td>\n",
       "      <td>330877</td>\n",
       "      <td>8.4583</td>\n",
       "      <td>NaN</td>\n",
       "      <td>Q</td>\n",
       "    </tr>\n",
       "    <tr>\n",
       "      <th>7</th>\n",
       "      <td>0</td>\n",
       "      <td>1</td>\n",
       "      <td>McCarthy, Mr. Timothy J</td>\n",
       "      <td>male</td>\n",
       "      <td>54.0</td>\n",
       "      <td>0</td>\n",
       "      <td>0</td>\n",
       "      <td>17463</td>\n",
       "      <td>51.8625</td>\n",
       "      <td>E46</td>\n",
       "      <td>S</td>\n",
       "    </tr>\n",
       "    <tr>\n",
       "      <th>8</th>\n",
       "      <td>0</td>\n",
       "      <td>3</td>\n",
       "      <td>Palsson, Master. Gosta Leonard</td>\n",
       "      <td>male</td>\n",
       "      <td>2.0</td>\n",
       "      <td>3</td>\n",
       "      <td>1</td>\n",
       "      <td>349909</td>\n",
       "      <td>21.0750</td>\n",
       "      <td>NaN</td>\n",
       "      <td>S</td>\n",
       "    </tr>\n",
       "    <tr>\n",
       "      <th>9</th>\n",
       "      <td>1</td>\n",
       "      <td>3</td>\n",
       "      <td>Johnson, Mrs. Oscar W (Elisabeth Vilhelmina Berg)</td>\n",
       "      <td>female</td>\n",
       "      <td>27.0</td>\n",
       "      <td>0</td>\n",
       "      <td>2</td>\n",
       "      <td>347742</td>\n",
       "      <td>11.1333</td>\n",
       "      <td>NaN</td>\n",
       "      <td>S</td>\n",
       "    </tr>\n",
       "    <tr>\n",
       "      <th>10</th>\n",
       "      <td>1</td>\n",
       "      <td>2</td>\n",
       "      <td>Nasser, Mrs. Nicholas (Adele Achem)</td>\n",
       "      <td>female</td>\n",
       "      <td>14.0</td>\n",
       "      <td>1</td>\n",
       "      <td>0</td>\n",
       "      <td>237736</td>\n",
       "      <td>30.0708</td>\n",
       "      <td>NaN</td>\n",
       "      <td>C</td>\n",
       "    </tr>\n",
       "  </tbody>\n",
       "</table>\n",
       "</div>"
      ],
      "text/plain": [
       "             Survived  Pclass  \\\n",
       "PassengerId                     \n",
       "1                   0       3   \n",
       "2                   1       1   \n",
       "3                   1       3   \n",
       "4                   1       1   \n",
       "5                   0       3   \n",
       "6                   0       3   \n",
       "7                   0       1   \n",
       "8                   0       3   \n",
       "9                   1       3   \n",
       "10                  1       2   \n",
       "\n",
       "                                                          Name     Sex   Age  \\\n",
       "PassengerId                                                                    \n",
       "1                                      Braund, Mr. Owen Harris    male  22.0   \n",
       "2            Cumings, Mrs. John Bradley (Florence Briggs Th...  female  38.0   \n",
       "3                                       Heikkinen, Miss. Laina  female  26.0   \n",
       "4                 Futrelle, Mrs. Jacques Heath (Lily May Peel)  female  35.0   \n",
       "5                                     Allen, Mr. William Henry    male  35.0   \n",
       "6                                             Moran, Mr. James    male   NaN   \n",
       "7                                      McCarthy, Mr. Timothy J    male  54.0   \n",
       "8                               Palsson, Master. Gosta Leonard    male   2.0   \n",
       "9            Johnson, Mrs. Oscar W (Elisabeth Vilhelmina Berg)  female  27.0   \n",
       "10                         Nasser, Mrs. Nicholas (Adele Achem)  female  14.0   \n",
       "\n",
       "             SibSp  Parch            Ticket     Fare Cabin Embarked  \n",
       "PassengerId                                                          \n",
       "1                1      0         A/5 21171   7.2500   NaN        S  \n",
       "2                1      0          PC 17599  71.2833   C85        C  \n",
       "3                0      0  STON/O2. 3101282   7.9250   NaN        S  \n",
       "4                1      0            113803  53.1000  C123        S  \n",
       "5                0      0            373450   8.0500   NaN        S  \n",
       "6                0      0            330877   8.4583   NaN        Q  \n",
       "7                0      0             17463  51.8625   E46        S  \n",
       "8                3      1            349909  21.0750   NaN        S  \n",
       "9                0      2            347742  11.1333   NaN        S  \n",
       "10               1      0            237736  30.0708   NaN        C  "
      ]
     },
     "execution_count": 2,
     "metadata": {},
     "output_type": "execute_result"
    }
   ],
   "source": [
    "train_df = pd.read_csv('/kaggle/input/titanic/train.csv')\n",
    "\n",
    "test_df = pd.read_csv('/kaggle/input/titanic/test.csv')\n",
    "\n",
    "train_df=train_df.set_index('PassengerId')\n",
    "train_df.head(10)"
   ]
  },
  {
   "cell_type": "markdown",
   "id": "3c8dd139",
   "metadata": {
    "papermill": {
     "duration": 0.004804,
     "end_time": "2022-08-22T23:33:18.384475",
     "exception": false,
     "start_time": "2022-08-22T23:33:18.379671",
     "status": "completed"
    },
    "tags": []
   },
   "source": [
    "Cabin, Name and Ticket attributes are going to be deleted."
   ]
  },
  {
   "cell_type": "code",
   "execution_count": 3,
   "id": "00b4de04",
   "metadata": {
    "execution": {
     "iopub.execute_input": "2022-08-22T23:33:18.396772Z",
     "iopub.status.busy": "2022-08-22T23:33:18.396063Z",
     "iopub.status.idle": "2022-08-22T23:33:18.403741Z",
     "shell.execute_reply": "2022-08-22T23:33:18.403121Z"
    },
    "papermill": {
     "duration": 0.015265,
     "end_time": "2022-08-22T23:33:18.405245",
     "exception": false,
     "start_time": "2022-08-22T23:33:18.389980",
     "status": "completed"
    },
    "tags": []
   },
   "outputs": [],
   "source": [
    "train_df = train_df.drop(['Cabin','Name', 'Ticket'],axis=1)"
   ]
  },
  {
   "cell_type": "code",
   "execution_count": 4,
   "id": "56f80c13",
   "metadata": {
    "execution": {
     "iopub.execute_input": "2022-08-22T23:33:18.416519Z",
     "iopub.status.busy": "2022-08-22T23:33:18.415899Z",
     "iopub.status.idle": "2022-08-22T23:33:18.429260Z",
     "shell.execute_reply": "2022-08-22T23:33:18.428445Z"
    },
    "papermill": {
     "duration": 0.020624,
     "end_time": "2022-08-22T23:33:18.430951",
     "exception": false,
     "start_time": "2022-08-22T23:33:18.410327",
     "status": "completed"
    },
    "tags": []
   },
   "outputs": [
    {
     "name": "stdout",
     "output_type": "stream",
     "text": [
      "<class 'pandas.core.frame.DataFrame'>\n",
      "Int64Index: 891 entries, 1 to 891\n",
      "Data columns (total 8 columns):\n",
      " #   Column    Non-Null Count  Dtype  \n",
      "---  ------    --------------  -----  \n",
      " 0   Survived  891 non-null    int64  \n",
      " 1   Pclass    891 non-null    int64  \n",
      " 2   Sex       891 non-null    object \n",
      " 3   Age       714 non-null    float64\n",
      " 4   SibSp     891 non-null    int64  \n",
      " 5   Parch     891 non-null    int64  \n",
      " 6   Fare      891 non-null    float64\n",
      " 7   Embarked  889 non-null    object \n",
      "dtypes: float64(2), int64(4), object(2)\n",
      "memory usage: 62.6+ KB\n"
     ]
    }
   ],
   "source": [
    "train_df.info()"
   ]
  },
  {
   "cell_type": "markdown",
   "id": "7736db85",
   "metadata": {
    "papermill": {
     "duration": 0.004757,
     "end_time": "2022-08-22T23:33:18.440813",
     "exception": false,
     "start_time": "2022-08-22T23:33:18.436056",
     "status": "completed"
    },
    "tags": []
   },
   "source": [
    "There are missing values on some attributes."
   ]
  },
  {
   "cell_type": "code",
   "execution_count": 5,
   "id": "bbe396b7",
   "metadata": {
    "execution": {
     "iopub.execute_input": "2022-08-22T23:33:18.452095Z",
     "iopub.status.busy": "2022-08-22T23:33:18.451498Z",
     "iopub.status.idle": "2022-08-22T23:33:18.474867Z",
     "shell.execute_reply": "2022-08-22T23:33:18.473880Z"
    },
    "papermill": {
     "duration": 0.030997,
     "end_time": "2022-08-22T23:33:18.476741",
     "exception": false,
     "start_time": "2022-08-22T23:33:18.445744",
     "status": "completed"
    },
    "tags": []
   },
   "outputs": [
    {
     "data": {
      "text/html": [
       "<div>\n",
       "<style scoped>\n",
       "    .dataframe tbody tr th:only-of-type {\n",
       "        vertical-align: middle;\n",
       "    }\n",
       "\n",
       "    .dataframe tbody tr th {\n",
       "        vertical-align: top;\n",
       "    }\n",
       "\n",
       "    .dataframe thead th {\n",
       "        text-align: right;\n",
       "    }\n",
       "</style>\n",
       "<table border=\"1\" class=\"dataframe\">\n",
       "  <thead>\n",
       "    <tr style=\"text-align: right;\">\n",
       "      <th></th>\n",
       "      <th>Survived</th>\n",
       "      <th>Pclass</th>\n",
       "      <th>Age</th>\n",
       "      <th>SibSp</th>\n",
       "      <th>Parch</th>\n",
       "      <th>Fare</th>\n",
       "    </tr>\n",
       "  </thead>\n",
       "  <tbody>\n",
       "    <tr>\n",
       "      <th>count</th>\n",
       "      <td>891.000000</td>\n",
       "      <td>891.000000</td>\n",
       "      <td>714.000000</td>\n",
       "      <td>891.000000</td>\n",
       "      <td>891.000000</td>\n",
       "      <td>891.000000</td>\n",
       "    </tr>\n",
       "    <tr>\n",
       "      <th>mean</th>\n",
       "      <td>0.383838</td>\n",
       "      <td>2.308642</td>\n",
       "      <td>29.699118</td>\n",
       "      <td>0.523008</td>\n",
       "      <td>0.381594</td>\n",
       "      <td>32.204208</td>\n",
       "    </tr>\n",
       "    <tr>\n",
       "      <th>std</th>\n",
       "      <td>0.486592</td>\n",
       "      <td>0.836071</td>\n",
       "      <td>14.526497</td>\n",
       "      <td>1.102743</td>\n",
       "      <td>0.806057</td>\n",
       "      <td>49.693429</td>\n",
       "    </tr>\n",
       "    <tr>\n",
       "      <th>min</th>\n",
       "      <td>0.000000</td>\n",
       "      <td>1.000000</td>\n",
       "      <td>0.420000</td>\n",
       "      <td>0.000000</td>\n",
       "      <td>0.000000</td>\n",
       "      <td>0.000000</td>\n",
       "    </tr>\n",
       "    <tr>\n",
       "      <th>25%</th>\n",
       "      <td>0.000000</td>\n",
       "      <td>2.000000</td>\n",
       "      <td>20.125000</td>\n",
       "      <td>0.000000</td>\n",
       "      <td>0.000000</td>\n",
       "      <td>7.910400</td>\n",
       "    </tr>\n",
       "    <tr>\n",
       "      <th>50%</th>\n",
       "      <td>0.000000</td>\n",
       "      <td>3.000000</td>\n",
       "      <td>28.000000</td>\n",
       "      <td>0.000000</td>\n",
       "      <td>0.000000</td>\n",
       "      <td>14.454200</td>\n",
       "    </tr>\n",
       "    <tr>\n",
       "      <th>75%</th>\n",
       "      <td>1.000000</td>\n",
       "      <td>3.000000</td>\n",
       "      <td>38.000000</td>\n",
       "      <td>1.000000</td>\n",
       "      <td>0.000000</td>\n",
       "      <td>31.000000</td>\n",
       "    </tr>\n",
       "    <tr>\n",
       "      <th>max</th>\n",
       "      <td>1.000000</td>\n",
       "      <td>3.000000</td>\n",
       "      <td>80.000000</td>\n",
       "      <td>8.000000</td>\n",
       "      <td>6.000000</td>\n",
       "      <td>512.329200</td>\n",
       "    </tr>\n",
       "  </tbody>\n",
       "</table>\n",
       "</div>"
      ],
      "text/plain": [
       "         Survived      Pclass         Age       SibSp       Parch        Fare\n",
       "count  891.000000  891.000000  714.000000  891.000000  891.000000  891.000000\n",
       "mean     0.383838    2.308642   29.699118    0.523008    0.381594   32.204208\n",
       "std      0.486592    0.836071   14.526497    1.102743    0.806057   49.693429\n",
       "min      0.000000    1.000000    0.420000    0.000000    0.000000    0.000000\n",
       "25%      0.000000    2.000000   20.125000    0.000000    0.000000    7.910400\n",
       "50%      0.000000    3.000000   28.000000    0.000000    0.000000   14.454200\n",
       "75%      1.000000    3.000000   38.000000    1.000000    0.000000   31.000000\n",
       "max      1.000000    3.000000   80.000000    8.000000    6.000000  512.329200"
      ]
     },
     "execution_count": 5,
     "metadata": {},
     "output_type": "execute_result"
    }
   ],
   "source": [
    "train_df.describe()"
   ]
  },
  {
   "cell_type": "markdown",
   "id": "a75de5af",
   "metadata": {
    "papermill": {
     "duration": 0.004906,
     "end_time": "2022-08-22T23:33:18.486883",
     "exception": false,
     "start_time": "2022-08-22T23:33:18.481977",
     "status": "completed"
    },
    "tags": []
   },
   "source": [
    "<h4>Splitting data</h4>\n",
    "In this case, we are creating a validation set from the train set."
   ]
  },
  {
   "cell_type": "code",
   "execution_count": 6,
   "id": "a2120055",
   "metadata": {
    "execution": {
     "iopub.execute_input": "2022-08-22T23:33:18.498109Z",
     "iopub.status.busy": "2022-08-22T23:33:18.497825Z",
     "iopub.status.idle": "2022-08-22T23:33:18.680915Z",
     "shell.execute_reply": "2022-08-22T23:33:18.680067Z"
    },
    "papermill": {
     "duration": 0.191015,
     "end_time": "2022-08-22T23:33:18.683012",
     "exception": false,
     "start_time": "2022-08-22T23:33:18.491997",
     "status": "completed"
    },
    "tags": []
   },
   "outputs": [],
   "source": [
    "from sklearn.model_selection import train_test_split\n",
    "\n",
    "train_set, val_set= train_test_split(train_df,test_size=0.3)\n"
   ]
  },
  {
   "cell_type": "markdown",
   "id": "6b62b85c",
   "metadata": {
    "papermill": {
     "duration": 0.005081,
     "end_time": "2022-08-22T23:33:18.693522",
     "exception": false,
     "start_time": "2022-08-22T23:33:18.688441",
     "status": "completed"
    },
    "tags": []
   },
   "source": [
    "<h3>EDA</h3>"
   ]
  },
  {
   "cell_type": "code",
   "execution_count": 7,
   "id": "4b1c885e",
   "metadata": {
    "execution": {
     "iopub.execute_input": "2022-08-22T23:33:18.705180Z",
     "iopub.status.busy": "2022-08-22T23:33:18.704871Z",
     "iopub.status.idle": "2022-08-22T23:33:19.311164Z",
     "shell.execute_reply": "2022-08-22T23:33:19.310345Z"
    },
    "papermill": {
     "duration": 0.614368,
     "end_time": "2022-08-22T23:33:19.313023",
     "exception": false,
     "start_time": "2022-08-22T23:33:18.698655",
     "status": "completed"
    },
    "tags": []
   },
   "outputs": [
    {
     "data": {
      "text/plain": [
       "array([[<AxesSubplot:title={'center':'Survived'}>,\n",
       "        <AxesSubplot:title={'center':'Pclass'}>],\n",
       "       [<AxesSubplot:title={'center':'Age'}>,\n",
       "        <AxesSubplot:title={'center':'SibSp'}>],\n",
       "       [<AxesSubplot:title={'center':'Parch'}>,\n",
       "        <AxesSubplot:title={'center':'Fare'}>]], dtype=object)"
      ]
     },
     "execution_count": 7,
     "metadata": {},
     "output_type": "execute_result"
    },
    {
     "data": {
      "image/png": "[encoded data removed]",
      "text/plain": [
       "<Figure size 720x720 with 6 Axes>"
      ]
     },
     "metadata": {
      "needs_background": "light"
     },
     "output_type": "display_data"
    }
   ],
   "source": [
    "train_set.hist(figsize=(10,10),grid=False)"
   ]
  },
  {
   "cell_type": "code",
   "execution_count": 8,
   "id": "19e83f6c",
   "metadata": {
    "execution": {
     "iopub.execute_input": "2022-08-22T23:33:19.326943Z",
     "iopub.status.busy": "2022-08-22T23:33:19.326513Z",
     "iopub.status.idle": "2022-08-22T23:33:19.450005Z",
     "shell.execute_reply": "2022-08-22T23:33:19.449277Z"
    },
    "papermill": {
     "duration": 0.132925,
     "end_time": "2022-08-22T23:33:19.451818",
     "exception": false,
     "start_time": "2022-08-22T23:33:19.318893",
     "status": "completed"
    },
    "tags": []
   },
   "outputs": [
    {
     "data": {
      "text/plain": [
       "<AxesSubplot:>"
      ]
     },
     "execution_count": 8,
     "metadata": {},
     "output_type": "execute_result"
    },
    {
     "data": {
      "image/png": "[encoded data removed]",
      "text/plain": [
       "<Figure size 432x288 with 1 Axes>"
      ]
     },
     "metadata": {
      "needs_background": "light"
     },
     "output_type": "display_data"
    }
   ],
   "source": [
    "train_set['Sex'].value_counts().plot(kind='bar')"
   ]
  },
  {
   "cell_type": "code",
   "execution_count": 9,
   "id": "36a3b6f4",
   "metadata": {
    "execution": {
     "iopub.execute_input": "2022-08-22T23:33:19.468954Z",
     "iopub.status.busy": "2022-08-22T23:33:19.468420Z",
     "iopub.status.idle": "2022-08-22T23:33:19.564945Z",
     "shell.execute_reply": "2022-08-22T23:33:19.564132Z"
    },
    "papermill": {
     "duration": 0.10704,
     "end_time": "2022-08-22T23:33:19.566799",
     "exception": false,
     "start_time": "2022-08-22T23:33:19.459759",
     "status": "completed"
    },
    "tags": []
   },
   "outputs": [
    {
     "data": {
      "text/plain": [
       "<AxesSubplot:>"
      ]
     },
     "execution_count": 9,
     "metadata": {},
     "output_type": "execute_result"
    },
    {
     "data": {
      "image/png": "[encoded data removed]",
      "text/plain": [
       "<Figure size 432x288 with 1 Axes>"
      ]
     },
     "metadata": {
      "needs_background": "light"
     },
     "output_type": "display_data"
    }
   ],
   "source": [
    "train_set['Embarked'].value_counts().plot(kind='bar')"
   ]
  },
  {
   "cell_type": "markdown",
   "id": "5f5aa31d",
   "metadata": {
    "papermill": {
     "duration": 0.007989,
     "end_time": "2022-08-22T23:33:19.582876",
     "exception": false,
     "start_time": "2022-08-22T23:33:19.574887",
     "status": "completed"
    },
    "tags": []
   },
   "source": [
    "<h3>Prepare Data</h3>"
   ]
  },
  {
   "cell_type": "code",
   "execution_count": 10,
   "id": "578fb480",
   "metadata": {
    "execution": {
     "iopub.execute_input": "2022-08-22T23:33:19.600789Z",
     "iopub.status.busy": "2022-08-22T23:33:19.600441Z",
     "iopub.status.idle": "2022-08-22T23:33:19.608510Z",
     "shell.execute_reply": "2022-08-22T23:33:19.607838Z"
    },
    "papermill": {
     "duration": 0.019487,
     "end_time": "2022-08-22T23:33:19.610514",
     "exception": false,
     "start_time": "2022-08-22T23:33:19.591027",
     "status": "completed"
    },
    "tags": []
   },
   "outputs": [],
   "source": [
    "train_X = train_set.drop('Survived',axis=1)\n",
    "train_y = train_set['Survived']\n",
    "\n",
    "val_X = val_set.drop('Survived', axis=1)\n",
    "val_y= val_set['Survived']"
   ]
  },
  {
   "cell_type": "code",
   "execution_count": 11,
   "id": "e1a5c931",
   "metadata": {
    "execution": {
     "iopub.execute_input": "2022-08-22T23:33:19.625004Z",
     "iopub.status.busy": "2022-08-22T23:33:19.624718Z",
     "iopub.status.idle": "2022-08-22T23:33:19.742639Z",
     "shell.execute_reply": "2022-08-22T23:33:19.741659Z"
    },
    "papermill": {
     "duration": 0.127187,
     "end_time": "2022-08-22T23:33:19.744998",
     "exception": false,
     "start_time": "2022-08-22T23:33:19.617811",
     "status": "completed"
    },
    "tags": []
   },
   "outputs": [],
   "source": [
    "from sklearn.pipeline import Pipeline\n",
    "from sklearn.impute import SimpleImputer\n",
    "from sklearn.preprocessing import StandardScaler\n",
    "\n",
    "num_pipeline = Pipeline([\n",
    "    ('imputer', SimpleImputer(strategy='mean')) ,\n",
    "    ('std_scaler', StandardScaler())\n",
    "])"
   ]
  },
  {
   "cell_type": "code",
   "execution_count": 12,
   "id": "0aab3470",
   "metadata": {
    "execution": {
     "iopub.execute_input": "2022-08-22T23:33:19.759073Z",
     "iopub.status.busy": "2022-08-22T23:33:19.758210Z",
     "iopub.status.idle": "2022-08-22T23:33:19.768242Z",
     "shell.execute_reply": "2022-08-22T23:33:19.767656Z"
    },
    "papermill": {
     "duration": 0.018687,
     "end_time": "2022-08-22T23:33:19.770049",
     "exception": false,
     "start_time": "2022-08-22T23:33:19.751362",
     "status": "completed"
    },
    "tags": []
   },
   "outputs": [],
   "source": [
    "from sklearn.compose import ColumnTransformer\n",
    "from sklearn.preprocessing import OneHotEncoder\n",
    "\n",
    "num_attr = ['Pclass','Age','SibSp','Parch','Fare']\n",
    "cat_attr = ['Embarked','Sex']\n",
    "\n",
    "full_pipeline = ColumnTransformer([\n",
    "    ('num', num_pipeline, num_attr),\n",
    "    ('cat', OneHotEncoder(),cat_attr)\n",
    "])"
   ]
  },
  {
   "cell_type": "code",
   "execution_count": 13,
   "id": "5beafb12",
   "metadata": {
    "execution": {
     "iopub.execute_input": "2022-08-22T23:33:19.784872Z",
     "iopub.status.busy": "2022-08-22T23:33:19.784097Z",
     "iopub.status.idle": "2022-08-22T23:33:19.795512Z",
     "shell.execute_reply": "2022-08-22T23:33:19.794848Z"
    },
    "papermill": {
     "duration": 0.019725,
     "end_time": "2022-08-22T23:33:19.797114",
     "exception": false,
     "start_time": "2022-08-22T23:33:19.777389",
     "status": "completed"
    },
    "tags": []
   },
   "outputs": [],
   "source": [
    "train_X_final = full_pipeline.fit_transform(train_X)"
   ]
  },
  {
   "cell_type": "code",
   "execution_count": 14,
   "id": "b1c8cf41",
   "metadata": {
    "execution": {
     "iopub.execute_input": "2022-08-22T23:33:19.810713Z",
     "iopub.status.busy": "2022-08-22T23:33:19.810275Z",
     "iopub.status.idle": "2022-08-22T23:33:20.048807Z",
     "shell.execute_reply": "2022-08-22T23:33:20.048148Z"
    },
    "papermill": {
     "duration": 0.24784,
     "end_time": "2022-08-22T23:33:20.051182",
     "exception": false,
     "start_time": "2022-08-22T23:33:19.803342",
     "status": "completed"
    },
    "tags": []
   },
   "outputs": [
    {
     "name": "stdout",
     "output_type": "stream",
     "text": [
      "83.95522388059702 %\n"
     ]
    }
   ],
   "source": [
    "from sklearn.ensemble import RandomForestClassifier\n",
    "from sklearn.metrics import accuracy_score\n",
    "\n",
    "forest_model = RandomForestClassifier()\n",
    "forest_model.fit(train_X_final,train_y)\n",
    "\n",
    "val_X_final= full_pipeline.transform(val_X)\n",
    "\n",
    "predict_val = forest_model.predict(val_X_final)\n",
    "print(accuracy_score(val_y,predict_val)*100,'%')"
   ]
  },
  {
   "cell_type": "code",
   "execution_count": 15,
   "id": "57a49884",
   "metadata": {
    "execution": {
     "iopub.execute_input": "2022-08-22T23:33:20.065698Z",
     "iopub.status.busy": "2022-08-22T23:33:20.064986Z",
     "iopub.status.idle": "2022-08-22T23:33:21.516190Z",
     "shell.execute_reply": "2022-08-22T23:33:21.515344Z"
    },
    "papermill": {
     "duration": 1.460599,
     "end_time": "2022-08-22T23:33:21.518291",
     "exception": false,
     "start_time": "2022-08-22T23:33:20.057692",
     "status": "completed"
    },
    "tags": []
   },
   "outputs": [
    {
     "name": "stdout",
     "output_type": "stream",
     "text": [
      "85.82089552238806 %\n"
     ]
    }
   ],
   "source": [
    "from sklearn.neural_network import MLPClassifier\n",
    "\n",
    "mlp_model = MLPClassifier(learning_rate_init=0.001,max_iter=1000)\n",
    "mlp_model.fit(train_X_final,train_y)\n",
    "\n",
    "predict_val = mlp_model.predict(val_X_final)\n",
    "print(accuracy_score(val_y,predict_val)*100,'%')"
   ]
  },
  {
   "cell_type": "code",
   "execution_count": 16,
   "id": "23841ae9",
   "metadata": {
    "execution": {
     "iopub.execute_input": "2022-08-22T23:33:21.536273Z",
     "iopub.status.busy": "2022-08-22T23:33:21.535945Z",
     "iopub.status.idle": "2022-08-22T23:33:21.739445Z",
     "shell.execute_reply": "2022-08-22T23:33:21.738564Z"
    },
    "papermill": {
     "duration": 0.215201,
     "end_time": "2022-08-22T23:33:21.741983",
     "exception": false,
     "start_time": "2022-08-22T23:33:21.526782",
     "status": "completed"
    },
    "tags": []
   },
   "outputs": [],
   "source": [
    "full_X = train_df.drop('Survived',axis=1)\n",
    "y = train_df['Survived']\n",
    "X= full_pipeline.transform(full_X)\n",
    "test_X=test_df[full_X.columns]\n",
    "test_X_final= full_pipeline.transform(test_X)\n",
    "\n",
    "full_forest_model = RandomForestClassifier(random_state=0)\n",
    "full_forest_model.fit(X,y)\n",
    "\n",
    "\n",
    "\n",
    "predict_test = full_forest_model.predict(test_X_final)"
   ]
  },
  {
   "cell_type": "code",
   "execution_count": 17,
   "id": "a9faa193",
   "metadata": {
    "execution": {
     "iopub.execute_input": "2022-08-22T23:33:21.756841Z",
     "iopub.status.busy": "2022-08-22T23:33:21.755923Z",
     "iopub.status.idle": "2022-08-22T23:33:21.764239Z",
     "shell.execute_reply": "2022-08-22T23:33:21.763349Z"
    },
    "papermill": {
     "duration": 0.017606,
     "end_time": "2022-08-22T23:33:21.766115",
     "exception": false,
     "start_time": "2022-08-22T23:33:21.748509",
     "status": "completed"
    },
    "tags": []
   },
   "outputs": [],
   "source": [
    "submission = pd.DataFrame({'PassengerId':test_df.PassengerId,'Survived':predict_test})\n",
    "submission.to_csv('submission.csv',index=False)"
   ]
  }
 ],
 "metadata": {
  "kernelspec": {
   "display_name": "Python 3",
   "language": "python",
   "name": "python3"
  },
  "language_info": {
   "codemirror_mode": {
    "name": "ipython",
    "version": 3
   },
   "file_extension": ".py",
   "mimetype": "text/x-python",
   "name": "python",
   "nbconvert_exporter": "python",
   "pygments_lexer": "ipython3",
   "version": "3.7.12"
  },
  "papermill": {
   "default_parameters": {},
   "duration": 12.207827,
   "end_time": "2022-08-22T23:33:22.390630",
   "environment_variables": {},
   "exception": null,
   "input_path": "__notebook__.ipynb",
   "output_path": "__notebook__.ipynb",
   "parameters": {},
   "start_time": "2022-08-22T23:33:10.182803",
   "version": "2.3.4"
  }
 },
 "nbformat": 4,
 "nbformat_minor": 5
}
