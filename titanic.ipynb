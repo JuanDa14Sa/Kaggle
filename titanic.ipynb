{
 "cells": [
  {
   "cell_type": "code",
   "execution_count": 1,
   "id": "73368916",
   "metadata": {
    "_cell_guid": "b1076dfc-b9ad-4769-8c92-a6c4dae69d19",
    "_uuid": "8f2839f25d086af736a60e9eeb907d3b93b6e0e5",
    "execution": {
     "iopub.execute_input": "2022-08-18T19:55:42.667516Z",
     "iopub.status.busy": "2022-08-18T19:55:42.665853Z",
     "iopub.status.idle": "2022-08-18T19:55:43.828028Z",
     "shell.execute_reply": "2022-08-18T19:55:43.826864Z"
    },
    "papermill": {
     "duration": 1.172479,
     "end_time": "2022-08-18T19:55:43.830898",
     "exception": false,
     "start_time": "2022-08-18T19:55:42.658419",
     "status": "completed"
    },
    "tags": []
   },
   "outputs": [
    {
     "name": "stdout",
     "output_type": "stream",
     "text": [
      "/kaggle/input/titanic/train.csv\n",
      "/kaggle/input/titanic/test.csv\n",
      "/kaggle/input/titanic/gender_submission.csv\n"
     ]
    }
   ],
   "source": [
    "# This Python 3 environment comes with many helpful analytics libraries installed\n",
    "# It is defined by the kaggle/python Docker image: https://github.com/kaggle/docker-python\n",
    "# For example, here's several helpful packages to load\n",
    "\n",
    "import numpy as np # linear algebra\n",
    "import pandas as pd # data processing, CSV file I/O (e.g. pd.read_csv)\n",
    "import matplotlib.pyplot as plt\n",
    "import seaborn as sns\n",
    "# Input data files are available in the read-only \"../input/\" directory\n",
    "# For example, running this (by clicking run or pressing Shift+Enter) will list all files under the input directory\n",
    "\n",
    "import os\n",
    "for dirname, _, filenames in os.walk('/kaggle/input'):\n",
    "    for filename in filenames:\n",
    "        print(os.path.join(dirname, filename))\n",
    "\n",
    "# You can write up to 20GB to the current directory (/kaggle/working/) that gets preserved as output when you create a version using \"Save & Run All\" \n",
    "# You can also write temporary files to /kaggle/temp/, but they won't be saved outside of the current session"
   ]
  },
  {
   "cell_type": "markdown",
   "id": "85a13591",
   "metadata": {
    "papermill": {
     "duration": 0.003615,
     "end_time": "2022-08-18T19:55:43.838655",
     "exception": false,
     "start_time": "2022-08-18T19:55:43.835040",
     "status": "completed"
    },
    "tags": []
   },
   "source": [
    "Load files"
   ]
  },
  {
   "cell_type": "code",
   "execution_count": 2,
   "id": "5dbe4580",
   "metadata": {
    "execution": {
     "iopub.execute_input": "2022-08-18T19:55:43.847722Z",
     "iopub.status.busy": "2022-08-18T19:55:43.847299Z",
     "iopub.status.idle": "2022-08-18T19:55:43.900203Z",
     "shell.execute_reply": "2022-08-18T19:55:43.898956Z"
    },
    "papermill": {
     "duration": 0.060303,
     "end_time": "2022-08-18T19:55:43.902642",
     "exception": false,
     "start_time": "2022-08-18T19:55:43.842339",
     "status": "completed"
    },
    "tags": []
   },
   "outputs": [
    {
     "data": {
      "text/html": [
       "<div>\n",
       "<style scoped>\n",
       "    .dataframe tbody tr th:only-of-type {\n",
       "        vertical-align: middle;\n",
       "    }\n",
       "\n",
       "    .dataframe tbody tr th {\n",
       "        vertical-align: top;\n",
       "    }\n",
       "\n",
       "    .dataframe thead th {\n",
       "        text-align: right;\n",
       "    }\n",
       "</style>\n",
       "<table border=\"1\" class=\"dataframe\">\n",
       "  <thead>\n",
       "    <tr style=\"text-align: right;\">\n",
       "      <th></th>\n",
       "      <th>PassengerId</th>\n",
       "      <th>Survived</th>\n",
       "      <th>Pclass</th>\n",
       "      <th>Name</th>\n",
       "      <th>Sex</th>\n",
       "      <th>Age</th>\n",
       "      <th>SibSp</th>\n",
       "      <th>Parch</th>\n",
       "      <th>Ticket</th>\n",
       "      <th>Fare</th>\n",
       "      <th>Cabin</th>\n",
       "      <th>Embarked</th>\n",
       "    </tr>\n",
       "  </thead>\n",
       "  <tbody>\n",
       "    <tr>\n",
       "      <th>0</th>\n",
       "      <td>1</td>\n",
       "      <td>0</td>\n",
       "      <td>3</td>\n",
       "      <td>Braund, Mr. Owen Harris</td>\n",
       "      <td>male</td>\n",
       "      <td>22.0</td>\n",
       "      <td>1</td>\n",
       "      <td>0</td>\n",
       "      <td>A/5 21171</td>\n",
       "      <td>7.2500</td>\n",
       "      <td>NaN</td>\n",
       "      <td>S</td>\n",
       "    </tr>\n",
       "    <tr>\n",
       "      <th>1</th>\n",
       "      <td>2</td>\n",
       "      <td>1</td>\n",
       "      <td>1</td>\n",
       "      <td>Cumings, Mrs. John Bradley (Florence Briggs Th...</td>\n",
       "      <td>female</td>\n",
       "      <td>38.0</td>\n",
       "      <td>1</td>\n",
       "      <td>0</td>\n",
       "      <td>PC 17599</td>\n",
       "      <td>71.2833</td>\n",
       "      <td>C85</td>\n",
       "      <td>C</td>\n",
       "    </tr>\n",
       "    <tr>\n",
       "      <th>2</th>\n",
       "      <td>3</td>\n",
       "      <td>1</td>\n",
       "      <td>3</td>\n",
       "      <td>Heikkinen, Miss. Laina</td>\n",
       "      <td>female</td>\n",
       "      <td>26.0</td>\n",
       "      <td>0</td>\n",
       "      <td>0</td>\n",
       "      <td>STON/O2. 3101282</td>\n",
       "      <td>7.9250</td>\n",
       "      <td>NaN</td>\n",
       "      <td>S</td>\n",
       "    </tr>\n",
       "    <tr>\n",
       "      <th>3</th>\n",
       "      <td>4</td>\n",
       "      <td>1</td>\n",
       "      <td>1</td>\n",
       "      <td>Futrelle, Mrs. Jacques Heath (Lily May Peel)</td>\n",
       "      <td>female</td>\n",
       "      <td>35.0</td>\n",
       "      <td>1</td>\n",
       "      <td>0</td>\n",
       "      <td>113803</td>\n",
       "      <td>53.1000</td>\n",
       "      <td>C123</td>\n",
       "      <td>S</td>\n",
       "    </tr>\n",
       "    <tr>\n",
       "      <th>4</th>\n",
       "      <td>5</td>\n",
       "      <td>0</td>\n",
       "      <td>3</td>\n",
       "      <td>Allen, Mr. William Henry</td>\n",
       "      <td>male</td>\n",
       "      <td>35.0</td>\n",
       "      <td>0</td>\n",
       "      <td>0</td>\n",
       "      <td>373450</td>\n",
       "      <td>8.0500</td>\n",
       "      <td>NaN</td>\n",
       "      <td>S</td>\n",
       "    </tr>\n",
       "    <tr>\n",
       "      <th>...</th>\n",
       "      <td>...</td>\n",
       "      <td>...</td>\n",
       "      <td>...</td>\n",
       "      <td>...</td>\n",
       "      <td>...</td>\n",
       "      <td>...</td>\n",
       "      <td>...</td>\n",
       "      <td>...</td>\n",
       "      <td>...</td>\n",
       "      <td>...</td>\n",
       "      <td>...</td>\n",
       "      <td>...</td>\n",
       "    </tr>\n",
       "    <tr>\n",
       "      <th>886</th>\n",
       "      <td>887</td>\n",
       "      <td>0</td>\n",
       "      <td>2</td>\n",
       "      <td>Montvila, Rev. Juozas</td>\n",
       "      <td>male</td>\n",
       "      <td>27.0</td>\n",
       "      <td>0</td>\n",
       "      <td>0</td>\n",
       "      <td>211536</td>\n",
       "      <td>13.0000</td>\n",
       "      <td>NaN</td>\n",
       "      <td>S</td>\n",
       "    </tr>\n",
       "    <tr>\n",
       "      <th>887</th>\n",
       "      <td>888</td>\n",
       "      <td>1</td>\n",
       "      <td>1</td>\n",
       "      <td>Graham, Miss. Margaret Edith</td>\n",
       "      <td>female</td>\n",
       "      <td>19.0</td>\n",
       "      <td>0</td>\n",
       "      <td>0</td>\n",
       "      <td>112053</td>\n",
       "      <td>30.0000</td>\n",
       "      <td>B42</td>\n",
       "      <td>S</td>\n",
       "    </tr>\n",
       "    <tr>\n",
       "      <th>888</th>\n",
       "      <td>889</td>\n",
       "      <td>0</td>\n",
       "      <td>3</td>\n",
       "      <td>Johnston, Miss. Catherine Helen \"Carrie\"</td>\n",
       "      <td>female</td>\n",
       "      <td>NaN</td>\n",
       "      <td>1</td>\n",
       "      <td>2</td>\n",
       "      <td>W./C. 6607</td>\n",
       "      <td>23.4500</td>\n",
       "      <td>NaN</td>\n",
       "      <td>S</td>\n",
       "    </tr>\n",
       "    <tr>\n",
       "      <th>889</th>\n",
       "      <td>890</td>\n",
       "      <td>1</td>\n",
       "      <td>1</td>\n",
       "      <td>Behr, Mr. Karl Howell</td>\n",
       "      <td>male</td>\n",
       "      <td>26.0</td>\n",
       "      <td>0</td>\n",
       "      <td>0</td>\n",
       "      <td>111369</td>\n",
       "      <td>30.0000</td>\n",
       "      <td>C148</td>\n",
       "      <td>C</td>\n",
       "    </tr>\n",
       "    <tr>\n",
       "      <th>890</th>\n",
       "      <td>891</td>\n",
       "      <td>0</td>\n",
       "      <td>3</td>\n",
       "      <td>Dooley, Mr. Patrick</td>\n",
       "      <td>male</td>\n",
       "      <td>32.0</td>\n",
       "      <td>0</td>\n",
       "      <td>0</td>\n",
       "      <td>370376</td>\n",
       "      <td>7.7500</td>\n",
       "      <td>NaN</td>\n",
       "      <td>Q</td>\n",
       "    </tr>\n",
       "  </tbody>\n",
       "</table>\n",
       "<p>891 rows × 12 columns</p>\n",
       "</div>"
      ],
      "text/plain": [
       "     PassengerId  Survived  Pclass  \\\n",
       "0              1         0       3   \n",
       "1              2         1       1   \n",
       "2              3         1       3   \n",
       "3              4         1       1   \n",
       "4              5         0       3   \n",
       "..           ...       ...     ...   \n",
       "886          887         0       2   \n",
       "887          888         1       1   \n",
       "888          889         0       3   \n",
       "889          890         1       1   \n",
       "890          891         0       3   \n",
       "\n",
       "                                                  Name     Sex   Age  SibSp  \\\n",
       "0                              Braund, Mr. Owen Harris    male  22.0      1   \n",
       "1    Cumings, Mrs. John Bradley (Florence Briggs Th...  female  38.0      1   \n",
       "2                               Heikkinen, Miss. Laina  female  26.0      0   \n",
       "3         Futrelle, Mrs. Jacques Heath (Lily May Peel)  female  35.0      1   \n",
       "4                             Allen, Mr. William Henry    male  35.0      0   \n",
       "..                                                 ...     ...   ...    ...   \n",
       "886                              Montvila, Rev. Juozas    male  27.0      0   \n",
       "887                       Graham, Miss. Margaret Edith  female  19.0      0   \n",
       "888           Johnston, Miss. Catherine Helen \"Carrie\"  female   NaN      1   \n",
       "889                              Behr, Mr. Karl Howell    male  26.0      0   \n",
       "890                                Dooley, Mr. Patrick    male  32.0      0   \n",
       "\n",
       "     Parch            Ticket     Fare Cabin Embarked  \n",
       "0        0         A/5 21171   7.2500   NaN        S  \n",
       "1        0          PC 17599  71.2833   C85        C  \n",
       "2        0  STON/O2. 3101282   7.9250   NaN        S  \n",
       "3        0            113803  53.1000  C123        S  \n",
       "4        0            373450   8.0500   NaN        S  \n",
       "..     ...               ...      ...   ...      ...  \n",
       "886      0            211536  13.0000   NaN        S  \n",
       "887      0            112053  30.0000   B42        S  \n",
       "888      2        W./C. 6607  23.4500   NaN        S  \n",
       "889      0            111369  30.0000  C148        C  \n",
       "890      0            370376   7.7500   NaN        Q  \n",
       "\n",
       "[891 rows x 12 columns]"
      ]
     },
     "execution_count": 2,
     "metadata": {},
     "output_type": "execute_result"
    }
   ],
   "source": [
    "train_data = pd.read_csv('/kaggle/input/titanic/train.csv')\n",
    "\n",
    "test_data = pd.read_csv('/kaggle/input/titanic/test.csv')\n",
    "\n",
    "train_data"
   ]
  },
  {
   "cell_type": "markdown",
   "id": "815e515f",
   "metadata": {
    "papermill": {
     "duration": 0.003848,
     "end_time": "2022-08-18T19:55:43.910877",
     "exception": false,
     "start_time": "2022-08-18T19:55:43.907029",
     "status": "completed"
    },
    "tags": []
   },
   "source": [
    "Look for missing values"
   ]
  },
  {
   "cell_type": "code",
   "execution_count": 3,
   "id": "2692dd6d",
   "metadata": {
    "execution": {
     "iopub.execute_input": "2022-08-18T19:55:43.921523Z",
     "iopub.status.busy": "2022-08-18T19:55:43.920623Z",
     "iopub.status.idle": "2022-08-18T19:55:43.930266Z",
     "shell.execute_reply": "2022-08-18T19:55:43.929115Z"
    },
    "papermill": {
     "duration": 0.017767,
     "end_time": "2022-08-18T19:55:43.932827",
     "exception": false,
     "start_time": "2022-08-18T19:55:43.915060",
     "status": "completed"
    },
    "tags": []
   },
   "outputs": [
    {
     "data": {
      "text/plain": [
       "PassengerId      0\n",
       "Survived         0\n",
       "Pclass           0\n",
       "Name             0\n",
       "Sex              0\n",
       "Age            177\n",
       "SibSp            0\n",
       "Parch            0\n",
       "Ticket           0\n",
       "Fare             0\n",
       "Cabin          687\n",
       "Embarked         2\n",
       "dtype: int64"
      ]
     },
     "execution_count": 3,
     "metadata": {},
     "output_type": "execute_result"
    }
   ],
   "source": [
    "train_data.isna().sum()"
   ]
  },
  {
   "cell_type": "code",
   "execution_count": 4,
   "id": "3c0e8d44",
   "metadata": {
    "execution": {
     "iopub.execute_input": "2022-08-18T19:55:43.944382Z",
     "iopub.status.busy": "2022-08-18T19:55:43.943718Z",
     "iopub.status.idle": "2022-08-18T19:55:43.954012Z",
     "shell.execute_reply": "2022-08-18T19:55:43.952939Z"
    },
    "papermill": {
     "duration": 0.018662,
     "end_time": "2022-08-18T19:55:43.956411",
     "exception": false,
     "start_time": "2022-08-18T19:55:43.937749",
     "status": "completed"
    },
    "tags": []
   },
   "outputs": [
    {
     "data": {
      "text/plain": [
       "PassengerId      0\n",
       "Pclass           0\n",
       "Name             0\n",
       "Sex              0\n",
       "Age             86\n",
       "SibSp            0\n",
       "Parch            0\n",
       "Ticket           0\n",
       "Fare             1\n",
       "Cabin          327\n",
       "Embarked         0\n",
       "dtype: int64"
      ]
     },
     "execution_count": 4,
     "metadata": {},
     "output_type": "execute_result"
    }
   ],
   "source": [
    "test_data.isna().sum()"
   ]
  },
  {
   "cell_type": "code",
   "execution_count": 5,
   "id": "8873fbfa",
   "metadata": {
    "execution": {
     "iopub.execute_input": "2022-08-18T19:55:43.968104Z",
     "iopub.status.busy": "2022-08-18T19:55:43.967670Z",
     "iopub.status.idle": "2022-08-18T19:55:43.975474Z",
     "shell.execute_reply": "2022-08-18T19:55:43.974297Z"
    },
    "papermill": {
     "duration": 0.016691,
     "end_time": "2022-08-18T19:55:43.977834",
     "exception": false,
     "start_time": "2022-08-18T19:55:43.961143",
     "status": "completed"
    },
    "tags": []
   },
   "outputs": [
    {
     "data": {
      "text/plain": [
       "['PassengerId',\n",
       " 'Survived',\n",
       " 'Pclass',\n",
       " 'Name',\n",
       " 'Sex',\n",
       " 'Age',\n",
       " 'SibSp',\n",
       " 'Parch',\n",
       " 'Ticket',\n",
       " 'Fare',\n",
       " 'Cabin',\n",
       " 'Embarked']"
      ]
     },
     "execution_count": 5,
     "metadata": {},
     "output_type": "execute_result"
    }
   ],
   "source": [
    "train_data.columns.tolist()"
   ]
  },
  {
   "cell_type": "code",
   "execution_count": 6,
   "id": "076f26aa",
   "metadata": {
    "execution": {
     "iopub.execute_input": "2022-08-18T19:55:43.989382Z",
     "iopub.status.busy": "2022-08-18T19:55:43.988942Z",
     "iopub.status.idle": "2022-08-18T19:55:43.999511Z",
     "shell.execute_reply": "2022-08-18T19:55:43.998459Z"
    },
    "papermill": {
     "duration": 0.018844,
     "end_time": "2022-08-18T19:55:44.001576",
     "exception": false,
     "start_time": "2022-08-18T19:55:43.982732",
     "status": "completed"
    },
    "tags": []
   },
   "outputs": [
    {
     "data": {
      "text/plain": [
       "29.69911764705882"
      ]
     },
     "execution_count": 6,
     "metadata": {},
     "output_type": "execute_result"
    }
   ],
   "source": [
    "train_data.Age.mean()"
   ]
  },
  {
   "cell_type": "code",
   "execution_count": 7,
   "id": "6aaf7b84",
   "metadata": {
    "execution": {
     "iopub.execute_input": "2022-08-18T19:55:44.013826Z",
     "iopub.status.busy": "2022-08-18T19:55:44.013380Z",
     "iopub.status.idle": "2022-08-18T19:55:44.258157Z",
     "shell.execute_reply": "2022-08-18T19:55:44.256637Z"
    },
    "papermill": {
     "duration": 0.254174,
     "end_time": "2022-08-18T19:55:44.260981",
     "exception": false,
     "start_time": "2022-08-18T19:55:44.006807",
     "status": "completed"
    },
    "tags": []
   },
   "outputs": [],
   "source": [
    "from sklearn.model_selection import train_test_split\n",
    "\n",
    "\n",
    "train_data['Age']=train_data['Age'].fillna(train_data['Age'].median()) #use mean for missing values\n",
    "train_data.loc[train_data[train_data.Embarked.isna()].index.tolist(),'Embarked']='S'\n",
    "\n",
    "test_data.Age = test_data.Age.fillna(test_data.Age.median())\n",
    "test_data.Fare=test_data.Fare.fillna(test_data.Fare.median())\n",
    "\n",
    "\n",
    "\n",
    "features=['Pclass','Sex','Age','SibSp','Parch','Fare']\n",
    "\n",
    "X=pd.get_dummies(train_data[features])\n",
    "y=train_data.Survived\n",
    "\n",
    "test_X=pd.get_dummies(test_data[features])\n",
    "\n",
    "train_X,val_X,train_y,val_y=train_test_split(X,y,random_state=0)"
   ]
  },
  {
   "cell_type": "code",
   "execution_count": 8,
   "id": "1eb1dc1b",
   "metadata": {
    "execution": {
     "iopub.execute_input": "2022-08-18T19:55:44.274235Z",
     "iopub.status.busy": "2022-08-18T19:55:44.273044Z",
     "iopub.status.idle": "2022-08-18T19:55:44.730177Z",
     "shell.execute_reply": "2022-08-18T19:55:44.728833Z"
    },
    "papermill": {
     "duration": 0.465842,
     "end_time": "2022-08-18T19:55:44.732941",
     "exception": false,
     "start_time": "2022-08-18T19:55:44.267099",
     "status": "completed"
    },
    "tags": []
   },
   "outputs": [
    {
     "name": "stdout",
     "output_type": "stream",
     "text": [
      "82.95964125560538 %\n"
     ]
    }
   ],
   "source": [
    "from sklearn.ensemble import RandomForestClassifier\n",
    "from sklearn.metrics import accuracy_score\n",
    "\n",
    "forest_model = RandomForestClassifier(random_state=0)\n",
    "forest_model.fit(train_X,train_y)\n",
    "\n",
    "predict_val = forest_model.predict(val_X)\n",
    "print(accuracy_score(val_y,predict_val)*100,'%')"
   ]
  },
  {
   "cell_type": "code",
   "execution_count": 9,
   "id": "6df4b535",
   "metadata": {
    "execution": {
     "iopub.execute_input": "2022-08-18T19:55:44.744886Z",
     "iopub.status.busy": "2022-08-18T19:55:44.744166Z",
     "iopub.status.idle": "2022-08-18T19:55:46.192871Z",
     "shell.execute_reply": "2022-08-18T19:55:46.191143Z"
    },
    "papermill": {
     "duration": 1.461368,
     "end_time": "2022-08-18T19:55:46.199390",
     "exception": false,
     "start_time": "2022-08-18T19:55:44.738022",
     "status": "completed"
    },
    "tags": []
   },
   "outputs": [
    {
     "name": "stdout",
     "output_type": "stream",
     "text": [
      "81.16591928251121 %\n"
     ]
    }
   ],
   "source": [
    "from sklearn.neural_network import MLPClassifier\n",
    "\n",
    "mlp_model = MLPClassifier(random_state=0,learning_rate_init=0.001,max_iter=500)\n",
    "mlp_model.fit(train_X,train_y)\n",
    "\n",
    "predict_val = mlp_model.predict(val_X)\n",
    "print(accuracy_score(val_y,predict_val)*100,'%')"
   ]
  },
  {
   "cell_type": "code",
   "execution_count": 10,
   "id": "a5e159b9",
   "metadata": {
    "execution": {
     "iopub.execute_input": "2022-08-18T19:55:46.226662Z",
     "iopub.status.busy": "2022-08-18T19:55:46.225902Z",
     "iopub.status.idle": "2022-08-18T19:55:46.505360Z",
     "shell.execute_reply": "2022-08-18T19:55:46.504103Z"
    },
    "papermill": {
     "duration": 0.296566,
     "end_time": "2022-08-18T19:55:46.508357",
     "exception": false,
     "start_time": "2022-08-18T19:55:46.211791",
     "status": "completed"
    },
    "tags": []
   },
   "outputs": [],
   "source": [
    "full_forest_model = RandomForestClassifier(random_state=0)\n",
    "full_forest_model.fit(X,y)\n",
    "\n",
    "predict_test = full_forest_model.predict(test_X)"
   ]
  },
  {
   "cell_type": "code",
   "execution_count": 11,
   "id": "cc649272",
   "metadata": {
    "execution": {
     "iopub.execute_input": "2022-08-18T19:55:46.519985Z",
     "iopub.status.busy": "2022-08-18T19:55:46.519573Z",
     "iopub.status.idle": "2022-08-18T19:55:46.528889Z",
     "shell.execute_reply": "2022-08-18T19:55:46.527769Z"
    },
    "papermill": {
     "duration": 0.018124,
     "end_time": "2022-08-18T19:55:46.531386",
     "exception": false,
     "start_time": "2022-08-18T19:55:46.513262",
     "status": "completed"
    },
    "tags": []
   },
   "outputs": [],
   "source": [
    "submission = pd.DataFrame({'PassengerId':test_data.PassengerId,'Survived':predict_test})\n",
    "submission.to_csv('submission.csv',index=False)"
   ]
  }
 ],
 "metadata": {
  "kernelspec": {
   "display_name": "Python 3",
   "language": "python",
   "name": "python3"
  },
  "language_info": {
   "codemirror_mode": {
    "name": "ipython",
    "version": 3
   },
   "file_extension": ".py",
   "mimetype": "text/x-python",
   "name": "python",
   "nbconvert_exporter": "python",
   "pygments_lexer": "ipython3",
   "version": "3.7.12"
  },
  "papermill": {
   "default_parameters": {},
   "duration": 13.950088,
   "end_time": "2022-08-18T19:55:47.360242",
   "environment_variables": {},
   "exception": null,
   "input_path": "__notebook__.ipynb",
   "output_path": "__notebook__.ipynb",
   "parameters": {},
   "start_time": "2022-08-18T19:55:33.410154",
   "version": "2.3.4"
  }
 },
 "nbformat": 4,
 "nbformat_minor": 5
}
