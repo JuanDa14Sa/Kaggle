{
 "cells": [
  {
   "cell_type": "code",
   "execution_count": 1,
   "id": "8d22b7fe",
   "metadata": {
    "_cell_guid": "b1076dfc-b9ad-4769-8c92-a6c4dae69d19",
    "_uuid": "8f2839f25d086af736a60e9eeb907d3b93b6e0e5",
    "execution": {
     "iopub.execute_input": "2022-09-19T21:36:47.796205Z",
     "iopub.status.busy": "2022-09-19T21:36:47.795069Z",
     "iopub.status.idle": "2022-09-19T21:36:49.167820Z",
     "shell.execute_reply": "2022-09-19T21:36:49.166062Z"
    },
    "papermill": {
     "duration": 1.384253,
     "end_time": "2022-09-19T21:36:49.170763",
     "exception": false,
     "start_time": "2022-09-19T21:36:47.786510",
     "status": "completed"
    },
    "tags": []
   },
   "outputs": [
    {
     "name": "stdout",
     "output_type": "stream",
     "text": [
      "/kaggle/input/spaceship-titanic/sample_submission.csv\n",
      "/kaggle/input/spaceship-titanic/train.csv\n",
      "/kaggle/input/spaceship-titanic/test.csv\n"
     ]
    }
   ],
   "source": [
    "# This Python 3 environment comes with many helpful analytics libraries installed\n",
    "# It is defined by the kaggle/python Docker image: https://github.com/kaggle/docker-python\n",
    "# For example, here's several helpful packages to load\n",
    "\n",
    "import numpy as np # linear algebra\n",
    "import pandas as pd # data processing, CSV file I/O (e.g. pd.read_csv)\n",
    "import matplotlib.pyplot as plt\n",
    "from sklearn.tree import DecisionTreeClassifier\n",
    "from sklearn.metrics import accuracy_score\n",
    "from sklearn.model_selection import train_test_split\n",
    "import seaborn as sns\n",
    "sns.set(style='whitegrid')\n",
    "\n",
    "# Input data files are available in the read-only \"../input/\" directory\n",
    "# For example, running this (by clicking run or pressing Shift+Enter) will list all files under the input directory\n",
    "\n",
    "import os\n",
    "for dirname, _, filenames in os.walk('/kaggle/input'):\n",
    "    for filename in filenames:\n",
    "        print(os.path.join(dirname, filename))\n",
    "\n",
    "# You can write up to 20GB to the current directory (/kaggle/working/) that gets preserved as output when you create a version using \"Save & Run All\" \n",
    "# You can also write temporary files to /kaggle/temp/, but they won't be saved outside of the current session"
   ]
  },
  {
   "cell_type": "code",
   "execution_count": 2,
   "id": "53cf38a8",
   "metadata": {
    "execution": {
     "iopub.execute_input": "2022-09-19T21:36:49.190141Z",
     "iopub.status.busy": "2022-09-19T21:36:49.189249Z",
     "iopub.status.idle": "2022-09-19T21:36:49.275217Z",
     "shell.execute_reply": "2022-09-19T21:36:49.274426Z"
    },
    "papermill": {
     "duration": 0.097722,
     "end_time": "2022-09-19T21:36:49.277262",
     "exception": false,
     "start_time": "2022-09-19T21:36:49.179540",
     "status": "completed"
    },
    "tags": []
   },
   "outputs": [],
   "source": [
    "train_data=pd.read_csv('/kaggle/input/spaceship-titanic/train.csv')\n",
    "test_data=pd.read_csv('/kaggle/input/spaceship-titanic/test.csv')\n",
    "train_data = train_data.set_index('PassengerId')\n",
    "train_data = train_data.drop(['Name', 'RoomService', 'FoodCourt', 'ShoppingMall', 'Spa', 'VRDeck'], axis=1) #for the time we are not going to use RoomService,FoodCourt,etc."
   ]
  },
  {
   "cell_type": "code",
   "execution_count": 3,
   "id": "1840eb40",
   "metadata": {
    "execution": {
     "iopub.execute_input": "2022-09-19T21:36:49.293405Z",
     "iopub.status.busy": "2022-09-19T21:36:49.292936Z",
     "iopub.status.idle": "2022-09-19T21:36:49.313005Z",
     "shell.execute_reply": "2022-09-19T21:36:49.311306Z"
    },
    "papermill": {
     "duration": 0.031092,
     "end_time": "2022-09-19T21:36:49.315561",
     "exception": false,
     "start_time": "2022-09-19T21:36:49.284469",
     "status": "completed"
    },
    "tags": []
   },
   "outputs": [
    {
     "data": {
      "text/html": [
       "<div>\n",
       "<style scoped>\n",
       "    .dataframe tbody tr th:only-of-type {\n",
       "        vertical-align: middle;\n",
       "    }\n",
       "\n",
       "    .dataframe tbody tr th {\n",
       "        vertical-align: top;\n",
       "    }\n",
       "\n",
       "    .dataframe thead th {\n",
       "        text-align: right;\n",
       "    }\n",
       "</style>\n",
       "<table border=\"1\" class=\"dataframe\">\n",
       "  <thead>\n",
       "    <tr style=\"text-align: right;\">\n",
       "      <th></th>\n",
       "      <th>HomePlanet</th>\n",
       "      <th>CryoSleep</th>\n",
       "      <th>Cabin</th>\n",
       "      <th>Destination</th>\n",
       "      <th>Age</th>\n",
       "      <th>VIP</th>\n",
       "      <th>Transported</th>\n",
       "    </tr>\n",
       "    <tr>\n",
       "      <th>PassengerId</th>\n",
       "      <th></th>\n",
       "      <th></th>\n",
       "      <th></th>\n",
       "      <th></th>\n",
       "      <th></th>\n",
       "      <th></th>\n",
       "      <th></th>\n",
       "    </tr>\n",
       "  </thead>\n",
       "  <tbody>\n",
       "    <tr>\n",
       "      <th>0001_01</th>\n",
       "      <td>Europa</td>\n",
       "      <td>False</td>\n",
       "      <td>B/0/P</td>\n",
       "      <td>TRAPPIST-1e</td>\n",
       "      <td>39.0</td>\n",
       "      <td>False</td>\n",
       "      <td>False</td>\n",
       "    </tr>\n",
       "    <tr>\n",
       "      <th>0002_01</th>\n",
       "      <td>Earth</td>\n",
       "      <td>False</td>\n",
       "      <td>F/0/S</td>\n",
       "      <td>TRAPPIST-1e</td>\n",
       "      <td>24.0</td>\n",
       "      <td>False</td>\n",
       "      <td>True</td>\n",
       "    </tr>\n",
       "    <tr>\n",
       "      <th>0003_01</th>\n",
       "      <td>Europa</td>\n",
       "      <td>False</td>\n",
       "      <td>A/0/S</td>\n",
       "      <td>TRAPPIST-1e</td>\n",
       "      <td>58.0</td>\n",
       "      <td>True</td>\n",
       "      <td>False</td>\n",
       "    </tr>\n",
       "    <tr>\n",
       "      <th>0003_02</th>\n",
       "      <td>Europa</td>\n",
       "      <td>False</td>\n",
       "      <td>A/0/S</td>\n",
       "      <td>TRAPPIST-1e</td>\n",
       "      <td>33.0</td>\n",
       "      <td>False</td>\n",
       "      <td>False</td>\n",
       "    </tr>\n",
       "    <tr>\n",
       "      <th>0004_01</th>\n",
       "      <td>Earth</td>\n",
       "      <td>False</td>\n",
       "      <td>F/1/S</td>\n",
       "      <td>TRAPPIST-1e</td>\n",
       "      <td>16.0</td>\n",
       "      <td>False</td>\n",
       "      <td>True</td>\n",
       "    </tr>\n",
       "  </tbody>\n",
       "</table>\n",
       "</div>"
      ],
      "text/plain": [
       "            HomePlanet CryoSleep  Cabin  Destination   Age    VIP  Transported\n",
       "PassengerId                                                                   \n",
       "0001_01         Europa     False  B/0/P  TRAPPIST-1e  39.0  False        False\n",
       "0002_01          Earth     False  F/0/S  TRAPPIST-1e  24.0  False         True\n",
       "0003_01         Europa     False  A/0/S  TRAPPIST-1e  58.0   True        False\n",
       "0003_02         Europa     False  A/0/S  TRAPPIST-1e  33.0  False        False\n",
       "0004_01          Earth     False  F/1/S  TRAPPIST-1e  16.0  False         True"
      ]
     },
     "execution_count": 3,
     "metadata": {},
     "output_type": "execute_result"
    }
   ],
   "source": [
    "train_data.head()"
   ]
  },
  {
   "cell_type": "code",
   "execution_count": 4,
   "id": "90ae8965",
   "metadata": {
    "execution": {
     "iopub.execute_input": "2022-09-19T21:36:49.331823Z",
     "iopub.status.busy": "2022-09-19T21:36:49.331466Z",
     "iopub.status.idle": "2022-09-19T21:36:49.351310Z",
     "shell.execute_reply": "2022-09-19T21:36:49.349971Z"
    },
    "papermill": {
     "duration": 0.030581,
     "end_time": "2022-09-19T21:36:49.353602",
     "exception": false,
     "start_time": "2022-09-19T21:36:49.323021",
     "status": "completed"
    },
    "tags": []
   },
   "outputs": [
    {
     "name": "stdout",
     "output_type": "stream",
     "text": [
      "<class 'pandas.core.frame.DataFrame'>\n",
      "Index: 8693 entries, 0001_01 to 9280_02\n",
      "Data columns (total 7 columns):\n",
      " #   Column       Non-Null Count  Dtype  \n",
      "---  ------       --------------  -----  \n",
      " 0   HomePlanet   8492 non-null   object \n",
      " 1   CryoSleep    8476 non-null   object \n",
      " 2   Cabin        8494 non-null   object \n",
      " 3   Destination  8511 non-null   object \n",
      " 4   Age          8514 non-null   float64\n",
      " 5   VIP          8490 non-null   object \n",
      " 6   Transported  8693 non-null   bool   \n",
      "dtypes: bool(1), float64(1), object(5)\n",
      "memory usage: 483.9+ KB\n"
     ]
    }
   ],
   "source": [
    "train_data.info()"
   ]
  },
  {
   "cell_type": "markdown",
   "id": "ec1cce46",
   "metadata": {
    "papermill": {
     "duration": 0.007123,
     "end_time": "2022-09-19T21:36:49.368348",
     "exception": false,
     "start_time": "2022-09-19T21:36:49.361225",
     "status": "completed"
    },
    "tags": []
   },
   "source": [
    "There is missing information on almost all of the attributes."
   ]
  },
  {
   "cell_type": "code",
   "execution_count": 5,
   "id": "42c3f726",
   "metadata": {
    "execution": {
     "iopub.execute_input": "2022-09-19T21:36:49.384605Z",
     "iopub.status.busy": "2022-09-19T21:36:49.384271Z",
     "iopub.status.idle": "2022-09-19T21:36:49.394363Z",
     "shell.execute_reply": "2022-09-19T21:36:49.393348Z"
    },
    "papermill": {
     "duration": 0.020541,
     "end_time": "2022-09-19T21:36:49.396340",
     "exception": false,
     "start_time": "2022-09-19T21:36:49.375799",
     "status": "completed"
    },
    "tags": []
   },
   "outputs": [
    {
     "data": {
      "text/plain": [
       "HomePlanet     201\n",
       "CryoSleep      217\n",
       "Cabin          199\n",
       "Destination    182\n",
       "Age            179\n",
       "VIP            203\n",
       "Transported      0\n",
       "dtype: int64"
      ]
     },
     "execution_count": 5,
     "metadata": {},
     "output_type": "execute_result"
    }
   ],
   "source": [
    "train_data.isna().sum()"
   ]
  },
  {
   "cell_type": "markdown",
   "id": "db2ce94d",
   "metadata": {
    "papermill": {
     "duration": 0.007055,
     "end_time": "2022-09-19T21:36:49.410950",
     "exception": false,
     "start_time": "2022-09-19T21:36:49.403895",
     "status": "completed"
    },
    "tags": []
   },
   "source": [
    "<h3>EDA</h3>"
   ]
  },
  {
   "cell_type": "code",
   "execution_count": 6,
   "id": "f35cac16",
   "metadata": {
    "execution": {
     "iopub.execute_input": "2022-09-19T21:36:49.428859Z",
     "iopub.status.busy": "2022-09-19T21:36:49.427546Z",
     "iopub.status.idle": "2022-09-19T21:36:49.445485Z",
     "shell.execute_reply": "2022-09-19T21:36:49.443963Z"
    },
    "papermill": {
     "duration": 0.028292,
     "end_time": "2022-09-19T21:36:49.447286",
     "exception": false,
     "start_time": "2022-09-19T21:36:49.418994",
     "status": "completed"
    },
    "tags": []
   },
   "outputs": [
    {
     "data": {
      "text/plain": [
       "HomePlanet        3\n",
       "CryoSleep         2\n",
       "Cabin          6560\n",
       "Destination       3\n",
       "Age              80\n",
       "VIP               2\n",
       "Transported       2\n",
       "dtype: int64"
      ]
     },
     "execution_count": 6,
     "metadata": {},
     "output_type": "execute_result"
    }
   ],
   "source": [
    "train_data.nunique()"
   ]
  },
  {
   "cell_type": "markdown",
   "id": "f867570e",
   "metadata": {
    "papermill": {
     "duration": 0.007264,
     "end_time": "2022-09-19T21:36:49.462145",
     "exception": false,
     "start_time": "2022-09-19T21:36:49.454881",
     "status": "completed"
    },
    "tags": []
   },
   "source": [
    "Separate categorical and numerical features, and target variable."
   ]
  },
  {
   "cell_type": "code",
   "execution_count": 7,
   "id": "20857f3c",
   "metadata": {
    "execution": {
     "iopub.execute_input": "2022-09-19T21:36:49.478765Z",
     "iopub.status.busy": "2022-09-19T21:36:49.478462Z",
     "iopub.status.idle": "2022-09-19T21:36:49.483465Z",
     "shell.execute_reply": "2022-09-19T21:36:49.482220Z"
    },
    "papermill": {
     "duration": 0.015593,
     "end_time": "2022-09-19T21:36:49.485428",
     "exception": false,
     "start_time": "2022-09-19T21:36:49.469835",
     "status": "completed"
    },
    "tags": []
   },
   "outputs": [],
   "source": [
    "cat_attr = ['HomePlanet', 'CryoSleep', 'Destination', 'VIP']\n",
    "num_attr = ['Age']\n",
    "target = 'Transported'"
   ]
  },
  {
   "cell_type": "markdown",
   "id": "2c459c81",
   "metadata": {
    "papermill": {
     "duration": 0.007059,
     "end_time": "2022-09-19T21:36:49.500048",
     "exception": false,
     "start_time": "2022-09-19T21:36:49.492989",
     "status": "completed"
    },
    "tags": []
   },
   "source": [
    "Information on Cabin is not usefull unless we transformed it."
   ]
  },
  {
   "cell_type": "code",
   "execution_count": 8,
   "id": "6a723225",
   "metadata": {
    "execution": {
     "iopub.execute_input": "2022-09-19T21:36:49.516588Z",
     "iopub.status.busy": "2022-09-19T21:36:49.516237Z",
     "iopub.status.idle": "2022-09-19T21:36:49.941706Z",
     "shell.execute_reply": "2022-09-19T21:36:49.939934Z"
    },
    "papermill": {
     "duration": 0.436823,
     "end_time": "2022-09-19T21:36:49.944422",
     "exception": false,
     "start_time": "2022-09-19T21:36:49.507599",
     "status": "completed"
    },
    "tags": []
   },
   "outputs": [
    {
     "data": {
      "text/plain": [
       "<AxesSubplot:xlabel='Age', ylabel='Count'>"
      ]
     },
     "execution_count": 8,
     "metadata": {},
     "output_type": "execute_result"
    },
    {
     "data": {
      "image/png": "[encoded data removed]",
      "text/plain": [
       "<Figure size 432x288 with 1 Axes>"
      ]
     },
     "metadata": {},
     "output_type": "display_data"
    }
   ],
   "source": [
    "sns.histplot(train_data, x='Age', hue=target)"
   ]
  },
  {
   "cell_type": "markdown",
   "id": "0e6a6989",
   "metadata": {
    "papermill": {
     "duration": 0.007672,
     "end_time": "2022-09-19T21:36:49.960199",
     "exception": false,
     "start_time": "2022-09-19T21:36:49.952527",
     "status": "completed"
    },
    "tags": []
   },
   "source": [
    "0-20 year olds are more likely to be transported, 20-40 year olds are less likely to be transported."
   ]
  },
  {
   "cell_type": "code",
   "execution_count": 9,
   "id": "6b00785d",
   "metadata": {
    "execution": {
     "iopub.execute_input": "2022-09-19T21:36:49.977830Z",
     "iopub.status.busy": "2022-09-19T21:36:49.977524Z",
     "iopub.status.idle": "2022-09-19T21:36:50.491505Z",
     "shell.execute_reply": "2022-09-19T21:36:50.490927Z"
    },
    "papermill": {
     "duration": 0.524485,
     "end_time": "2022-09-19T21:36:50.493005",
     "exception": false,
     "start_time": "2022-09-19T21:36:49.968520",
     "status": "completed"
    },
    "tags": []
   },
   "outputs": [
    {
     "data": {
      "image/png": "[encoded data removed]",
      "text/plain": [
       "<Figure size 432x1800 with 4 Axes>"
      ]
     },
     "metadata": {},
     "output_type": "display_data"
    }
   ],
   "source": [
    "fig, axes = plt.subplots(len(cat_attr),1, figsize=(6,25))\n",
    "i = 0\n",
    "for axis in axes:\n",
    "    sns.countplot(data=train_data, x=cat_attr[i], hue=target, ax=axis)\n",
    "    i+=1\n",
    "plt.show()"
   ]
  },
  {
   "cell_type": "markdown",
   "id": "ce69facc",
   "metadata": {
    "papermill": {
     "duration": 0.008077,
     "end_time": "2022-09-19T21:36:50.509626",
     "exception": false,
     "start_time": "2022-09-19T21:36:50.501549",
     "status": "completed"
    },
    "tags": []
   },
   "source": [
    "* People coming from Earth are less likely to be transported, meanwhile people from Europa are more likely to be transported.\n",
    "* People in cryosleep are more likely to be transported.\n",
    "* Few people travel VIP."
   ]
  },
  {
   "cell_type": "markdown",
   "id": "3bd51cd0",
   "metadata": {
    "papermill": {
     "duration": 0.007817,
     "end_time": "2022-09-19T21:36:50.525774",
     "exception": false,
     "start_time": "2022-09-19T21:36:50.517957",
     "status": "completed"
    },
    "tags": []
   },
   "source": [
    "Now we are going to separate Cabin into Deck, Num and Side. First we create a mock value for missing cabins, and we make sure that the value is not present in the train or test set."
   ]
  },
  {
   "cell_type": "code",
   "execution_count": 10,
   "id": "d6f86348",
   "metadata": {
    "execution": {
     "iopub.execute_input": "2022-09-19T21:36:50.543662Z",
     "iopub.status.busy": "2022-09-19T21:36:50.543172Z",
     "iopub.status.idle": "2022-09-19T21:36:50.549526Z",
     "shell.execute_reply": "2022-09-19T21:36:50.548979Z"
    },
    "papermill": {
     "duration": 0.017542,
     "end_time": "2022-09-19T21:36:50.551381",
     "exception": false,
     "start_time": "2022-09-19T21:36:50.533839",
     "status": "completed"
    },
    "tags": []
   },
   "outputs": [
    {
     "name": "stdout",
     "output_type": "stream",
     "text": [
      "Training data impossible value counts (should be 0): 0\n",
      "Test data impossible value counts (should be 0): 0\n"
     ]
    }
   ],
   "source": [
    "na_cabin = 'Z/9999/Z'\n",
    "print('Training data impossible value counts (should be 0):', train_data.loc[train_data['Cabin'] == na_cabin, 'Cabin'].count())\n",
    "print('Test data impossible value counts (should be 0):', test_data.loc[test_data['Cabin'] == 'na_cabin', 'Cabin'].count())\n"
   ]
  },
  {
   "cell_type": "code",
   "execution_count": 11,
   "id": "24bdf030",
   "metadata": {
    "execution": {
     "iopub.execute_input": "2022-09-19T21:36:50.570100Z",
     "iopub.status.busy": "2022-09-19T21:36:50.569820Z",
     "iopub.status.idle": "2022-09-19T21:36:50.577048Z",
     "shell.execute_reply": "2022-09-19T21:36:50.576086Z"
    },
    "papermill": {
     "duration": 0.018204,
     "end_time": "2022-09-19T21:36:50.578770",
     "exception": false,
     "start_time": "2022-09-19T21:36:50.560566",
     "status": "completed"
    },
    "tags": []
   },
   "outputs": [],
   "source": [
    "from sklearn.base import BaseEstimator, TransformerMixin\n",
    "class CabinTransformer(BaseEstimator, TransformerMixin):\n",
    "    def fit(self,X,y=None):\n",
    "        return self\n",
    "    def transform(self,X,y=None):\n",
    "        X['Cabin'].fillna('Z/9999/Z', inplace=True)\n",
    "        X['Cabin_Deck'] = X['Cabin'].apply(lambda x:x.split('/')[0])\n",
    "        X['Cabin_Number'] = X['Cabin'].apply(lambda x:x.split('/')[1]).astype(int)\n",
    "        X['Cabin_Side'] = X['Cabin'].apply(lambda x:x.split('/')[2])\n",
    "        X.drop('Cabin', axis=1, inplace=True)\n",
    "        X.loc[X['Cabin_Deck'] == 'Z', 'Cabin_Deck'] = np.nan\n",
    "        X.loc[X['Cabin_Number'] == 9999, 'Cabin_Number'] = np.nan\n",
    "        X.loc[X['Cabin_Side'] == 'Z', 'Cabin_Side'] = np.nan\n",
    "        return X\n"
   ]
  },
  {
   "cell_type": "code",
   "execution_count": 12,
   "id": "1e8ae0a5",
   "metadata": {
    "execution": {
     "iopub.execute_input": "2022-09-19T21:36:50.597614Z",
     "iopub.status.busy": "2022-09-19T21:36:50.597198Z",
     "iopub.status.idle": "2022-09-19T21:36:50.641490Z",
     "shell.execute_reply": "2022-09-19T21:36:50.640539Z"
    },
    "papermill": {
     "duration": 0.055792,
     "end_time": "2022-09-19T21:36:50.643114",
     "exception": false,
     "start_time": "2022-09-19T21:36:50.587322",
     "status": "completed"
    },
    "tags": []
   },
   "outputs": [
    {
     "data": {
      "text/html": [
       "<div>\n",
       "<style scoped>\n",
       "    .dataframe tbody tr th:only-of-type {\n",
       "        vertical-align: middle;\n",
       "    }\n",
       "\n",
       "    .dataframe tbody tr th {\n",
       "        vertical-align: top;\n",
       "    }\n",
       "\n",
       "    .dataframe thead th {\n",
       "        text-align: right;\n",
       "    }\n",
       "</style>\n",
       "<table border=\"1\" class=\"dataframe\">\n",
       "  <thead>\n",
       "    <tr style=\"text-align: right;\">\n",
       "      <th></th>\n",
       "      <th>HomePlanet</th>\n",
       "      <th>CryoSleep</th>\n",
       "      <th>Destination</th>\n",
       "      <th>Age</th>\n",
       "      <th>VIP</th>\n",
       "      <th>Transported</th>\n",
       "      <th>Cabin_Deck</th>\n",
       "      <th>Cabin_Number</th>\n",
       "      <th>Cabin_Side</th>\n",
       "    </tr>\n",
       "    <tr>\n",
       "      <th>PassengerId</th>\n",
       "      <th></th>\n",
       "      <th></th>\n",
       "      <th></th>\n",
       "      <th></th>\n",
       "      <th></th>\n",
       "      <th></th>\n",
       "      <th></th>\n",
       "      <th></th>\n",
       "      <th></th>\n",
       "    </tr>\n",
       "  </thead>\n",
       "  <tbody>\n",
       "    <tr>\n",
       "      <th>0001_01</th>\n",
       "      <td>Europa</td>\n",
       "      <td>False</td>\n",
       "      <td>TRAPPIST-1e</td>\n",
       "      <td>39.0</td>\n",
       "      <td>False</td>\n",
       "      <td>False</td>\n",
       "      <td>B</td>\n",
       "      <td>0.0</td>\n",
       "      <td>P</td>\n",
       "    </tr>\n",
       "    <tr>\n",
       "      <th>0002_01</th>\n",
       "      <td>Earth</td>\n",
       "      <td>False</td>\n",
       "      <td>TRAPPIST-1e</td>\n",
       "      <td>24.0</td>\n",
       "      <td>False</td>\n",
       "      <td>True</td>\n",
       "      <td>F</td>\n",
       "      <td>0.0</td>\n",
       "      <td>S</td>\n",
       "    </tr>\n",
       "    <tr>\n",
       "      <th>0003_01</th>\n",
       "      <td>Europa</td>\n",
       "      <td>False</td>\n",
       "      <td>TRAPPIST-1e</td>\n",
       "      <td>58.0</td>\n",
       "      <td>True</td>\n",
       "      <td>False</td>\n",
       "      <td>A</td>\n",
       "      <td>0.0</td>\n",
       "      <td>S</td>\n",
       "    </tr>\n",
       "    <tr>\n",
       "      <th>0003_02</th>\n",
       "      <td>Europa</td>\n",
       "      <td>False</td>\n",
       "      <td>TRAPPIST-1e</td>\n",
       "      <td>33.0</td>\n",
       "      <td>False</td>\n",
       "      <td>False</td>\n",
       "      <td>A</td>\n",
       "      <td>0.0</td>\n",
       "      <td>S</td>\n",
       "    </tr>\n",
       "    <tr>\n",
       "      <th>0004_01</th>\n",
       "      <td>Earth</td>\n",
       "      <td>False</td>\n",
       "      <td>TRAPPIST-1e</td>\n",
       "      <td>16.0</td>\n",
       "      <td>False</td>\n",
       "      <td>True</td>\n",
       "      <td>F</td>\n",
       "      <td>1.0</td>\n",
       "      <td>S</td>\n",
       "    </tr>\n",
       "    <tr>\n",
       "      <th>...</th>\n",
       "      <td>...</td>\n",
       "      <td>...</td>\n",
       "      <td>...</td>\n",
       "      <td>...</td>\n",
       "      <td>...</td>\n",
       "      <td>...</td>\n",
       "      <td>...</td>\n",
       "      <td>...</td>\n",
       "      <td>...</td>\n",
       "    </tr>\n",
       "    <tr>\n",
       "      <th>9276_01</th>\n",
       "      <td>Europa</td>\n",
       "      <td>False</td>\n",
       "      <td>55 Cancri e</td>\n",
       "      <td>41.0</td>\n",
       "      <td>True</td>\n",
       "      <td>False</td>\n",
       "      <td>A</td>\n",
       "      <td>98.0</td>\n",
       "      <td>P</td>\n",
       "    </tr>\n",
       "    <tr>\n",
       "      <th>9278_01</th>\n",
       "      <td>Earth</td>\n",
       "      <td>True</td>\n",
       "      <td>PSO J318.5-22</td>\n",
       "      <td>18.0</td>\n",
       "      <td>False</td>\n",
       "      <td>False</td>\n",
       "      <td>G</td>\n",
       "      <td>1499.0</td>\n",
       "      <td>S</td>\n",
       "    </tr>\n",
       "    <tr>\n",
       "      <th>9279_01</th>\n",
       "      <td>Earth</td>\n",
       "      <td>False</td>\n",
       "      <td>TRAPPIST-1e</td>\n",
       "      <td>26.0</td>\n",
       "      <td>False</td>\n",
       "      <td>True</td>\n",
       "      <td>G</td>\n",
       "      <td>1500.0</td>\n",
       "      <td>S</td>\n",
       "    </tr>\n",
       "    <tr>\n",
       "      <th>9280_01</th>\n",
       "      <td>Europa</td>\n",
       "      <td>False</td>\n",
       "      <td>55 Cancri e</td>\n",
       "      <td>32.0</td>\n",
       "      <td>False</td>\n",
       "      <td>False</td>\n",
       "      <td>E</td>\n",
       "      <td>608.0</td>\n",
       "      <td>S</td>\n",
       "    </tr>\n",
       "    <tr>\n",
       "      <th>9280_02</th>\n",
       "      <td>Europa</td>\n",
       "      <td>False</td>\n",
       "      <td>TRAPPIST-1e</td>\n",
       "      <td>44.0</td>\n",
       "      <td>False</td>\n",
       "      <td>True</td>\n",
       "      <td>E</td>\n",
       "      <td>608.0</td>\n",
       "      <td>S</td>\n",
       "    </tr>\n",
       "  </tbody>\n",
       "</table>\n",
       "<p>8693 rows × 9 columns</p>\n",
       "</div>"
      ],
      "text/plain": [
       "            HomePlanet CryoSleep    Destination   Age    VIP  Transported  \\\n",
       "PassengerId                                                                 \n",
       "0001_01         Europa     False    TRAPPIST-1e  39.0  False        False   \n",
       "0002_01          Earth     False    TRAPPIST-1e  24.0  False         True   \n",
       "0003_01         Europa     False    TRAPPIST-1e  58.0   True        False   \n",
       "0003_02         Europa     False    TRAPPIST-1e  33.0  False        False   \n",
       "0004_01          Earth     False    TRAPPIST-1e  16.0  False         True   \n",
       "...                ...       ...            ...   ...    ...          ...   \n",
       "9276_01         Europa     False    55 Cancri e  41.0   True        False   \n",
       "9278_01          Earth      True  PSO J318.5-22  18.0  False        False   \n",
       "9279_01          Earth     False    TRAPPIST-1e  26.0  False         True   \n",
       "9280_01         Europa     False    55 Cancri e  32.0  False        False   \n",
       "9280_02         Europa     False    TRAPPIST-1e  44.0  False         True   \n",
       "\n",
       "            Cabin_Deck  Cabin_Number Cabin_Side  \n",
       "PassengerId                                      \n",
       "0001_01              B           0.0          P  \n",
       "0002_01              F           0.0          S  \n",
       "0003_01              A           0.0          S  \n",
       "0003_02              A           0.0          S  \n",
       "0004_01              F           1.0          S  \n",
       "...                ...           ...        ...  \n",
       "9276_01              A          98.0          P  \n",
       "9278_01              G        1499.0          S  \n",
       "9279_01              G        1500.0          S  \n",
       "9280_01              E         608.0          S  \n",
       "9280_02              E         608.0          S  \n",
       "\n",
       "[8693 rows x 9 columns]"
      ]
     },
     "execution_count": 12,
     "metadata": {},
     "output_type": "execute_result"
    }
   ],
   "source": [
    "trns = CabinTransformer()\n",
    "trns.fit_transform(test_data)\n",
    "trns.fit_transform(train_data)"
   ]
  },
  {
   "cell_type": "markdown",
   "id": "cc150d0a",
   "metadata": {
    "papermill": {
     "duration": 0.008778,
     "end_time": "2022-09-19T21:36:50.661850",
     "exception": false,
     "start_time": "2022-09-19T21:36:50.653072",
     "status": "completed"
    },
    "tags": []
   },
   "source": [
    "Examine the new cabin features."
   ]
  },
  {
   "cell_type": "code",
   "execution_count": 13,
   "id": "c3cbd6cd",
   "metadata": {
    "execution": {
     "iopub.execute_input": "2022-09-19T21:36:50.681878Z",
     "iopub.status.busy": "2022-09-19T21:36:50.681423Z",
     "iopub.status.idle": "2022-09-19T21:36:51.314749Z",
     "shell.execute_reply": "2022-09-19T21:36:51.312807Z"
    },
    "papermill": {
     "duration": 0.645632,
     "end_time": "2022-09-19T21:36:51.316700",
     "exception": false,
     "start_time": "2022-09-19T21:36:50.671068",
     "status": "completed"
    },
    "tags": []
   },
   "outputs": [
    {
     "data": {
      "text/plain": [
       "<AxesSubplot:xlabel='Cabin_Number', ylabel='Count'>"
      ]
     },
     "execution_count": 13,
     "metadata": {},
     "output_type": "execute_result"
    },
    {
     "data": {
      "image/png": "[encoded data removed]",
      "text/plain": [
       "<Figure size 720x1080 with 3 Axes>"
      ]
     },
     "metadata": {},
     "output_type": "display_data"
    }
   ],
   "source": [
    "fig, axis = plt.subplots(3,1,figsize=(10,15))\n",
    "\n",
    "sns.countplot(data=train_data, x='Cabin_Side', hue=target, ax=axis[0])\n",
    "sns.countplot(data=train_data, x='Cabin_Deck', hue=target, ax=axis[1], order=['A','B','C','D','E','F','G','T'])\n",
    "sns.histplot(data=train_data, x='Cabin_Number', hue=target, ax=axis[2], kde=True)"
   ]
  },
  {
   "cell_type": "markdown",
   "id": "e3abf8ee",
   "metadata": {
    "papermill": {
     "duration": 0.009294,
     "end_time": "2022-09-19T21:36:51.336142",
     "exception": false,
     "start_time": "2022-09-19T21:36:51.326848",
     "status": "completed"
    },
    "tags": []
   },
   "source": [
    "Group Cabin_Number into 0-300, 300-600, and so on."
   ]
  },
  {
   "cell_type": "code",
   "execution_count": 14,
   "id": "2c99aa15",
   "metadata": {
    "execution": {
     "iopub.execute_input": "2022-09-19T21:36:51.357400Z",
     "iopub.status.busy": "2022-09-19T21:36:51.356343Z",
     "iopub.status.idle": "2022-09-19T21:36:51.372896Z",
     "shell.execute_reply": "2022-09-19T21:36:51.372128Z"
    },
    "papermill": {
     "duration": 0.02922,
     "end_time": "2022-09-19T21:36:51.375011",
     "exception": false,
     "start_time": "2022-09-19T21:36:51.345791",
     "status": "completed"
    },
    "tags": []
   },
   "outputs": [],
   "source": [
    "from sklearn.pipeline import Pipeline\n",
    "from sklearn.impute import SimpleImputer\n",
    "from sklearn.preprocessing import StandardScaler\n",
    "from sklearn.compose import ColumnTransformer\n",
    "from sklearn.preprocessing import OneHotEncoder\n",
    "\n",
    "train_data.columns\n",
    "\n",
    "cat_attr = ['HomePlanet', 'CryoSleep', 'Destination', 'VIP', 'Cabin_Deck', 'Cabin_Side']\n",
    "num_attr = ['Age', 'Cabin_Number']\n",
    "\n",
    "train_y=train_data[target]\n",
    "train_X=train_data.drop(target,axis=1)"
   ]
  },
  {
   "cell_type": "code",
   "execution_count": 15,
   "id": "c2c037c8",
   "metadata": {
    "execution": {
     "iopub.execute_input": "2022-09-19T21:36:51.396507Z",
     "iopub.status.busy": "2022-09-19T21:36:51.395837Z",
     "iopub.status.idle": "2022-09-19T21:36:51.402133Z",
     "shell.execute_reply": "2022-09-19T21:36:51.400915Z"
    },
    "papermill": {
     "duration": 0.019668,
     "end_time": "2022-09-19T21:36:51.404502",
     "exception": false,
     "start_time": "2022-09-19T21:36:51.384834",
     "status": "completed"
    },
    "tags": []
   },
   "outputs": [],
   "source": [
    "num_pipeline = Pipeline([\n",
    "    ('imputer', SimpleImputer(strategy='median')),\n",
    "    ('std_scaler', StandardScaler())\n",
    "])\n",
    "\n",
    "cat_pipeline = Pipeline([\n",
    "    ('imputer', SimpleImputer(strategy='most_frequent')),\n",
    "    ('encoder', OneHotEncoder())\n",
    "])\n",
    "\n",
    "full_pipeline = ColumnTransformer([\n",
    "    ('num', num_pipeline, num_attr),\n",
    "    ('cat', cat_pipeline, cat_attr)\n",
    "    \n",
    "])"
   ]
  },
  {
   "cell_type": "code",
   "execution_count": 16,
   "id": "523d4548",
   "metadata": {
    "execution": {
     "iopub.execute_input": "2022-09-19T21:36:51.425916Z",
     "iopub.status.busy": "2022-09-19T21:36:51.425586Z",
     "iopub.status.idle": "2022-09-19T21:36:51.460680Z",
     "shell.execute_reply": "2022-09-19T21:36:51.459748Z"
    },
    "papermill": {
     "duration": 0.048826,
     "end_time": "2022-09-19T21:36:51.463249",
     "exception": false,
     "start_time": "2022-09-19T21:36:51.414423",
     "status": "completed"
    },
    "tags": []
   },
   "outputs": [],
   "source": [
    "train_X = full_pipeline.fit_transform(train_X)"
   ]
  },
  {
   "cell_type": "code",
   "execution_count": 17,
   "id": "3d9b45fa",
   "metadata": {
    "execution": {
     "iopub.execute_input": "2022-09-19T21:36:51.484653Z",
     "iopub.status.busy": "2022-09-19T21:36:51.484138Z",
     "iopub.status.idle": "2022-09-19T21:36:55.203167Z",
     "shell.execute_reply": "2022-09-19T21:36:55.202056Z"
    },
    "papermill": {
     "duration": 3.731741,
     "end_time": "2022-09-19T21:36:55.204952",
     "exception": false,
     "start_time": "2022-09-19T21:36:51.473211",
     "status": "completed"
    },
    "tags": []
   },
   "outputs": [
    {
     "data": {
      "text/plain": [
       "array([0.7027027 , 0.68142611, 0.65842438, 0.67779056, 0.7278481 ])"
      ]
     },
     "execution_count": 17,
     "metadata": {},
     "output_type": "execute_result"
    }
   ],
   "source": [
    "from sklearn.ensemble import RandomForestClassifier\n",
    "from sklearn.model_selection import cross_val_score\n",
    "\n",
    "model = RandomForestClassifier()\n",
    "cross_val_score(model,train_X,train_y,cv=5)"
   ]
  },
  {
   "cell_type": "code",
   "execution_count": 18,
   "id": "46ea00c8",
   "metadata": {
    "execution": {
     "iopub.execute_input": "2022-09-19T21:36:55.225626Z",
     "iopub.status.busy": "2022-09-19T21:36:55.225279Z",
     "iopub.status.idle": "2022-09-19T21:36:55.230086Z",
     "shell.execute_reply": "2022-09-19T21:36:55.229038Z"
    },
    "papermill": {
     "duration": 0.017325,
     "end_time": "2022-09-19T21:36:55.231905",
     "exception": false,
     "start_time": "2022-09-19T21:36:55.214580",
     "status": "completed"
    },
    "tags": []
   },
   "outputs": [],
   "source": [
    "# class CabinGrouper(BaseEstimator, TransformerMixin):\n",
    "#     def fit(self,X,y=None):\n",
    "#         return self\n",
    "#     def transform(self,X,y=None):\n",
    "#         X['Cabin_Group']=0\n",
    "#         for i in range()\n",
    "#         return X\n"
   ]
  },
  {
   "cell_type": "code",
   "execution_count": 19,
   "id": "fac46117",
   "metadata": {
    "execution": {
     "iopub.execute_input": "2022-09-19T21:36:55.253240Z",
     "iopub.status.busy": "2022-09-19T21:36:55.252707Z",
     "iopub.status.idle": "2022-09-19T21:36:55.256710Z",
     "shell.execute_reply": "2022-09-19T21:36:55.255811Z"
    },
    "papermill": {
     "duration": 0.016524,
     "end_time": "2022-09-19T21:36:55.258411",
     "exception": false,
     "start_time": "2022-09-19T21:36:55.241887",
     "status": "completed"
    },
    "tags": []
   },
   "outputs": [],
   "source": [
    "# features=['HomePlanet','CryoSleep','Destination','Age','VIP','RoomService','FoodCourt','ShoppingMall','Spa','VRDeck'] #columns used \n",
    "\n",
    "# X_=train_data[features]\n",
    "# X=pd.get_dummies(X_) # categorical data to numeric \n",
    "# y=train_data.Transported\n",
    "\n",
    "# train_X,val_X,train_y,val_y=train_test_split(X,y)\n"
   ]
  },
  {
   "cell_type": "code",
   "execution_count": 20,
   "id": "c6091fae",
   "metadata": {
    "execution": {
     "iopub.execute_input": "2022-09-19T21:36:55.279690Z",
     "iopub.status.busy": "2022-09-19T21:36:55.279217Z",
     "iopub.status.idle": "2022-09-19T21:36:55.282196Z",
     "shell.execute_reply": "2022-09-19T21:36:55.281685Z"
    },
    "papermill": {
     "duration": 0.015485,
     "end_time": "2022-09-19T21:36:55.283717",
     "exception": false,
     "start_time": "2022-09-19T21:36:55.268232",
     "status": "completed"
    },
    "tags": []
   },
   "outputs": [],
   "source": [
    "# from sklearn.ensemble import RandomForestClassifier\n",
    "# from sklearn.ensemble import AdaBoostClassifier\n",
    "\n",
    "# model_random_forest=AdaBoostClassifier(RandomForestClassifier(random_state=0),random_state=0)\n",
    "# model_random_forest.fit(train_X,train_y)\n",
    "\n",
    "# predictions_random_forest=model_random_forest.predict(val_X)\n",
    "\n",
    "# accuracy_random_forest=accuracy_score(val_y,predictions_random_forest)*100"
   ]
  },
  {
   "cell_type": "code",
   "execution_count": 21,
   "id": "8e5afcc9",
   "metadata": {
    "execution": {
     "iopub.execute_input": "2022-09-19T21:36:55.305012Z",
     "iopub.status.busy": "2022-09-19T21:36:55.304543Z",
     "iopub.status.idle": "2022-09-19T21:36:55.308131Z",
     "shell.execute_reply": "2022-09-19T21:36:55.306952Z"
    },
    "papermill": {
     "duration": 0.016538,
     "end_time": "2022-09-19T21:36:55.309983",
     "exception": false,
     "start_time": "2022-09-19T21:36:55.293445",
     "status": "completed"
    },
    "tags": []
   },
   "outputs": [],
   "source": [
    "# from sklearn.linear_model import SGDClassifier\n",
    "\n",
    "# model_SGDC=SGDClassifier(random_state=0)\n",
    "# model_SGDC.fit(train_X,train_y)\n",
    "\n",
    "# predictions_SGDC=model_SGDC.predict(val_X)\n",
    "\n",
    "# accuracy_SGDC=accuracy_score(val_y,predictions_SGDC)*100\n"
   ]
  },
  {
   "cell_type": "code",
   "execution_count": 22,
   "id": "24fccfac",
   "metadata": {
    "execution": {
     "iopub.execute_input": "2022-09-19T21:36:55.330661Z",
     "iopub.status.busy": "2022-09-19T21:36:55.330302Z",
     "iopub.status.idle": "2022-09-19T21:36:55.341641Z",
     "shell.execute_reply": "2022-09-19T21:36:55.340354Z"
    },
    "papermill": {
     "duration": 0.024184,
     "end_time": "2022-09-19T21:36:55.343830",
     "exception": false,
     "start_time": "2022-09-19T21:36:55.319646",
     "status": "completed"
    },
    "tags": []
   },
   "outputs": [],
   "source": [
    "from sklearn.neural_network import MLPClassifier   \n",
    "\n",
    "# model_MLP=MLPClassifier(random_state=0,learning_rate_init=0.01)\n",
    "# model_MLP.fit(train_X,train_y)\n",
    "\n",
    "# predictions_MLP=model_MLP.predict(val_X)\n",
    "\n",
    "# accuracy_MLP=accuracy_score(val_y,predictions_MLP)*100"
   ]
  },
  {
   "cell_type": "code",
   "execution_count": 23,
   "id": "5fcb1c95",
   "metadata": {
    "execution": {
     "iopub.execute_input": "2022-09-19T21:36:55.366338Z",
     "iopub.status.busy": "2022-09-19T21:36:55.366004Z",
     "iopub.status.idle": "2022-09-19T21:36:55.370416Z",
     "shell.execute_reply": "2022-09-19T21:36:55.369134Z"
    },
    "papermill": {
     "duration": 0.017749,
     "end_time": "2022-09-19T21:36:55.372655",
     "exception": false,
     "start_time": "2022-09-19T21:36:55.354906",
     "status": "completed"
    },
    "tags": []
   },
   "outputs": [],
   "source": [
    "# print(accuracy_random_forest,\"% RandomForest+Ada\")\n",
    "# print(accuracy_SGDC,\"% SGDC\")\n",
    "# print(accuracy_MLP,\"% MLP\")"
   ]
  },
  {
   "cell_type": "markdown",
   "id": "54cf4491",
   "metadata": {
    "papermill": {
     "duration": 0.00924,
     "end_time": "2022-09-19T21:36:55.391768",
     "exception": false,
     "start_time": "2022-09-19T21:36:55.382528",
     "status": "completed"
    },
    "tags": []
   },
   "source": [
    "MLP gives the best result."
   ]
  },
  {
   "cell_type": "code",
   "execution_count": 24,
   "id": "40096248",
   "metadata": {
    "execution": {
     "iopub.execute_input": "2022-09-19T21:36:55.412356Z",
     "iopub.status.busy": "2022-09-19T21:36:55.412022Z",
     "iopub.status.idle": "2022-09-19T21:36:55.415929Z",
     "shell.execute_reply": "2022-09-19T21:36:55.414646Z"
    },
    "papermill": {
     "duration": 0.016805,
     "end_time": "2022-09-19T21:36:55.418002",
     "exception": false,
     "start_time": "2022-09-19T21:36:55.401197",
     "status": "completed"
    },
    "tags": []
   },
   "outputs": [],
   "source": [
    "# model_MLP_full_data=MLPClassifier(random_state=0,learning_rate_init=0.01)\n",
    "# model_MLP_full_data.fit(X,y)"
   ]
  },
  {
   "cell_type": "code",
   "execution_count": 25,
   "id": "5c4e03c8",
   "metadata": {
    "execution": {
     "iopub.execute_input": "2022-09-19T21:36:55.439995Z",
     "iopub.status.busy": "2022-09-19T21:36:55.438715Z",
     "iopub.status.idle": "2022-09-19T21:36:55.442956Z",
     "shell.execute_reply": "2022-09-19T21:36:55.442316Z"
    },
    "papermill": {
     "duration": 0.016969,
     "end_time": "2022-09-19T21:36:55.444877",
     "exception": false,
     "start_time": "2022-09-19T21:36:55.427908",
     "status": "completed"
    },
    "tags": []
   },
   "outputs": [],
   "source": [
    "# test_data=pd.read_csv('/kaggle/input/spaceship-titanic/test.csv')\n",
    "# # test_data=test_data.dropna(axis=0)\n",
    "# # test_X=pd.get_dummies(test_data[features])"
   ]
  },
  {
   "cell_type": "code",
   "execution_count": 26,
   "id": "11bb30d9",
   "metadata": {
    "execution": {
     "iopub.execute_input": "2022-09-19T21:36:55.467025Z",
     "iopub.status.busy": "2022-09-19T21:36:55.465795Z",
     "iopub.status.idle": "2022-09-19T21:36:55.471429Z",
     "shell.execute_reply": "2022-09-19T21:36:55.470000Z"
    },
    "papermill": {
     "duration": 0.018721,
     "end_time": "2022-09-19T21:36:55.473558",
     "exception": false,
     "start_time": "2022-09-19T21:36:55.454837",
     "status": "completed"
    },
    "tags": []
   },
   "outputs": [],
   "source": [
    "# test_data.shape"
   ]
  },
  {
   "cell_type": "code",
   "execution_count": 27,
   "id": "dfe23027",
   "metadata": {
    "execution": {
     "iopub.execute_input": "2022-09-19T21:36:55.495636Z",
     "iopub.status.busy": "2022-09-19T21:36:55.495301Z",
     "iopub.status.idle": "2022-09-19T21:36:55.500656Z",
     "shell.execute_reply": "2022-09-19T21:36:55.498952Z"
    },
    "papermill": {
     "duration": 0.019101,
     "end_time": "2022-09-19T21:36:55.502993",
     "exception": false,
     "start_time": "2022-09-19T21:36:55.483892",
     "status": "completed"
    },
    "tags": []
   },
   "outputs": [],
   "source": [
    "# test_preds=model_MLP_full_data.predict(test_X)\n",
    "# test_preds"
   ]
  },
  {
   "cell_type": "code",
   "execution_count": 28,
   "id": "2467df4c",
   "metadata": {
    "execution": {
     "iopub.execute_input": "2022-09-19T21:36:55.525345Z",
     "iopub.status.busy": "2022-09-19T21:36:55.524766Z",
     "iopub.status.idle": "2022-09-19T21:36:55.528316Z",
     "shell.execute_reply": "2022-09-19T21:36:55.527267Z"
    },
    "papermill": {
     "duration": 0.017129,
     "end_time": "2022-09-19T21:36:55.530556",
     "exception": false,
     "start_time": "2022-09-19T21:36:55.513427",
     "status": "completed"
    },
    "tags": []
   },
   "outputs": [],
   "source": [
    "# submission=pd.DataFrame({\"PassengerId\":test_data.PassengerId,\"Transported\":test_preds})\n",
    "# submission.to_csv('submission.csv',index=False)"
   ]
  }
 ],
 "metadata": {
  "kernelspec": {
   "display_name": "Python 3",
   "language": "python",
   "name": "python3"
  },
  "language_info": {
   "codemirror_mode": {
    "name": "ipython",
    "version": 3
   },
   "file_extension": ".py",
   "mimetype": "text/x-python",
   "name": "python",
   "nbconvert_exporter": "python",
   "pygments_lexer": "ipython3",
   "version": "3.7.12"
  },
  "papermill": {
   "default_parameters": {},
   "duration": 16.240048,
   "end_time": "2022-09-19T21:36:56.261901",
   "environment_variables": {},
   "exception": null,
   "input_path": "__notebook__.ipynb",
   "output_path": "__notebook__.ipynb",
   "parameters": {},
   "start_time": "2022-09-19T21:36:40.021853",
   "version": "2.3.4"
  }
 },
 "nbformat": 4,
 "nbformat_minor": 5
}
