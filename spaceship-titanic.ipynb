{
 "cells": [
  {
   "cell_type": "code",
   "execution_count": 1,
   "id": "9f5bfa9c",
   "metadata": {
    "_cell_guid": "b1076dfc-b9ad-4769-8c92-a6c4dae69d19",
    "_uuid": "8f2839f25d086af736a60e9eeb907d3b93b6e0e5",
    "execution": {
     "iopub.execute_input": "2022-09-19T00:43:22.777222Z",
     "iopub.status.busy": "2022-09-19T00:43:22.776757Z",
     "iopub.status.idle": "2022-09-19T00:43:24.373177Z",
     "shell.execute_reply": "2022-09-19T00:43:24.370170Z"
    },
    "papermill": {
     "duration": 1.610152,
     "end_time": "2022-09-19T00:43:24.375927",
     "exception": false,
     "start_time": "2022-09-19T00:43:22.765775",
     "status": "completed"
    },
    "tags": []
   },
   "outputs": [
    {
     "name": "stdout",
     "output_type": "stream",
     "text": [
      "/kaggle/input/spaceship-titanic/sample_submission.csv\n",
      "/kaggle/input/spaceship-titanic/train.csv\n",
      "/kaggle/input/spaceship-titanic/test.csv\n"
     ]
    }
   ],
   "source": [
    "# This Python 3 environment comes with many helpful analytics libraries installed\n",
    "# It is defined by the kaggle/python Docker image: https://github.com/kaggle/docker-python\n",
    "# For example, here's several helpful packages to load\n",
    "\n",
    "import numpy as np # linear algebra\n",
    "import pandas as pd # data processing, CSV file I/O (e.g. pd.read_csv)\n",
    "import matplotlib.pyplot as plt\n",
    "from sklearn.tree import DecisionTreeClassifier\n",
    "from sklearn.metrics import accuracy_score\n",
    "from sklearn.model_selection import train_test_split\n",
    "import seaborn as sns\n",
    "sns.set(style='whitegrid')\n",
    "\n",
    "# Input data files are available in the read-only \"../input/\" directory\n",
    "# For example, running this (by clicking run or pressing Shift+Enter) will list all files under the input directory\n",
    "\n",
    "import os\n",
    "for dirname, _, filenames in os.walk('/kaggle/input'):\n",
    "    for filename in filenames:\n",
    "        print(os.path.join(dirname, filename))\n",
    "\n",
    "# You can write up to 20GB to the current directory (/kaggle/working/) that gets preserved as output when you create a version using \"Save & Run All\" \n",
    "# You can also write temporary files to /kaggle/temp/, but they won't be saved outside of the current session"
   ]
  },
  {
   "cell_type": "code",
   "execution_count": 2,
   "id": "47e35a8c",
   "metadata": {
    "execution": {
     "iopub.execute_input": "2022-09-19T00:43:24.391807Z",
     "iopub.status.busy": "2022-09-19T00:43:24.391408Z",
     "iopub.status.idle": "2022-09-19T00:43:24.493021Z",
     "shell.execute_reply": "2022-09-19T00:43:24.492150Z"
    },
    "papermill": {
     "duration": 0.11229,
     "end_time": "2022-09-19T00:43:24.495583",
     "exception": false,
     "start_time": "2022-09-19T00:43:24.383293",
     "status": "completed"
    },
    "tags": []
   },
   "outputs": [],
   "source": [
    "train_data=pd.read_csv('/kaggle/input/spaceship-titanic/train.csv')\n",
    "test_data=pd.read_csv('/kaggle/input/spaceship-titanic/test.csv')\n",
    "train_data = train_data.set_index('PassengerId')\n",
    "train_data = train_data.drop(['Name', 'RoomService', 'FoodCourt', 'ShoppingMall', 'Spa', 'VRDeck'], axis=1) #for the time we are not going to use RoomService,FoodCourt,etc."
   ]
  },
  {
   "cell_type": "code",
   "execution_count": 3,
   "id": "3f27eff5",
   "metadata": {
    "execution": {
     "iopub.execute_input": "2022-09-19T00:43:24.511846Z",
     "iopub.status.busy": "2022-09-19T00:43:24.510712Z",
     "iopub.status.idle": "2022-09-19T00:43:24.532021Z",
     "shell.execute_reply": "2022-09-19T00:43:24.530871Z"
    },
    "papermill": {
     "duration": 0.032134,
     "end_time": "2022-09-19T00:43:24.534730",
     "exception": false,
     "start_time": "2022-09-19T00:43:24.502596",
     "status": "completed"
    },
    "tags": []
   },
   "outputs": [
    {
     "data": {
      "text/html": [
       "<div>\n",
       "<style scoped>\n",
       "    .dataframe tbody tr th:only-of-type {\n",
       "        vertical-align: middle;\n",
       "    }\n",
       "\n",
       "    .dataframe tbody tr th {\n",
       "        vertical-align: top;\n",
       "    }\n",
       "\n",
       "    .dataframe thead th {\n",
       "        text-align: right;\n",
       "    }\n",
       "</style>\n",
       "<table border=\"1\" class=\"dataframe\">\n",
       "  <thead>\n",
       "    <tr style=\"text-align: right;\">\n",
       "      <th></th>\n",
       "      <th>HomePlanet</th>\n",
       "      <th>CryoSleep</th>\n",
       "      <th>Cabin</th>\n",
       "      <th>Destination</th>\n",
       "      <th>Age</th>\n",
       "      <th>VIP</th>\n",
       "      <th>Transported</th>\n",
       "    </tr>\n",
       "    <tr>\n",
       "      <th>PassengerId</th>\n",
       "      <th></th>\n",
       "      <th></th>\n",
       "      <th></th>\n",
       "      <th></th>\n",
       "      <th></th>\n",
       "      <th></th>\n",
       "      <th></th>\n",
       "    </tr>\n",
       "  </thead>\n",
       "  <tbody>\n",
       "    <tr>\n",
       "      <th>0001_01</th>\n",
       "      <td>Europa</td>\n",
       "      <td>False</td>\n",
       "      <td>B/0/P</td>\n",
       "      <td>TRAPPIST-1e</td>\n",
       "      <td>39.0</td>\n",
       "      <td>False</td>\n",
       "      <td>False</td>\n",
       "    </tr>\n",
       "    <tr>\n",
       "      <th>0002_01</th>\n",
       "      <td>Earth</td>\n",
       "      <td>False</td>\n",
       "      <td>F/0/S</td>\n",
       "      <td>TRAPPIST-1e</td>\n",
       "      <td>24.0</td>\n",
       "      <td>False</td>\n",
       "      <td>True</td>\n",
       "    </tr>\n",
       "    <tr>\n",
       "      <th>0003_01</th>\n",
       "      <td>Europa</td>\n",
       "      <td>False</td>\n",
       "      <td>A/0/S</td>\n",
       "      <td>TRAPPIST-1e</td>\n",
       "      <td>58.0</td>\n",
       "      <td>True</td>\n",
       "      <td>False</td>\n",
       "    </tr>\n",
       "    <tr>\n",
       "      <th>0003_02</th>\n",
       "      <td>Europa</td>\n",
       "      <td>False</td>\n",
       "      <td>A/0/S</td>\n",
       "      <td>TRAPPIST-1e</td>\n",
       "      <td>33.0</td>\n",
       "      <td>False</td>\n",
       "      <td>False</td>\n",
       "    </tr>\n",
       "    <tr>\n",
       "      <th>0004_01</th>\n",
       "      <td>Earth</td>\n",
       "      <td>False</td>\n",
       "      <td>F/1/S</td>\n",
       "      <td>TRAPPIST-1e</td>\n",
       "      <td>16.0</td>\n",
       "      <td>False</td>\n",
       "      <td>True</td>\n",
       "    </tr>\n",
       "  </tbody>\n",
       "</table>\n",
       "</div>"
      ],
      "text/plain": [
       "            HomePlanet CryoSleep  Cabin  Destination   Age    VIP  Transported\n",
       "PassengerId                                                                   \n",
       "0001_01         Europa     False  B/0/P  TRAPPIST-1e  39.0  False        False\n",
       "0002_01          Earth     False  F/0/S  TRAPPIST-1e  24.0  False         True\n",
       "0003_01         Europa     False  A/0/S  TRAPPIST-1e  58.0   True        False\n",
       "0003_02         Europa     False  A/0/S  TRAPPIST-1e  33.0  False        False\n",
       "0004_01          Earth     False  F/1/S  TRAPPIST-1e  16.0  False         True"
      ]
     },
     "execution_count": 3,
     "metadata": {},
     "output_type": "execute_result"
    }
   ],
   "source": [
    "train_data.head()"
   ]
  },
  {
   "cell_type": "code",
   "execution_count": 4,
   "id": "72dd3e33",
   "metadata": {
    "execution": {
     "iopub.execute_input": "2022-09-19T00:43:24.551376Z",
     "iopub.status.busy": "2022-09-19T00:43:24.550600Z",
     "iopub.status.idle": "2022-09-19T00:43:24.573030Z",
     "shell.execute_reply": "2022-09-19T00:43:24.571559Z"
    },
    "papermill": {
     "duration": 0.033496,
     "end_time": "2022-09-19T00:43:24.575541",
     "exception": false,
     "start_time": "2022-09-19T00:43:24.542045",
     "status": "completed"
    },
    "tags": []
   },
   "outputs": [
    {
     "name": "stdout",
     "output_type": "stream",
     "text": [
      "<class 'pandas.core.frame.DataFrame'>\n",
      "Index: 8693 entries, 0001_01 to 9280_02\n",
      "Data columns (total 7 columns):\n",
      " #   Column       Non-Null Count  Dtype  \n",
      "---  ------       --------------  -----  \n",
      " 0   HomePlanet   8492 non-null   object \n",
      " 1   CryoSleep    8476 non-null   object \n",
      " 2   Cabin        8494 non-null   object \n",
      " 3   Destination  8511 non-null   object \n",
      " 4   Age          8514 non-null   float64\n",
      " 5   VIP          8490 non-null   object \n",
      " 6   Transported  8693 non-null   bool   \n",
      "dtypes: bool(1), float64(1), object(5)\n",
      "memory usage: 483.9+ KB\n"
     ]
    }
   ],
   "source": [
    "train_data.info()"
   ]
  },
  {
   "cell_type": "markdown",
   "id": "6bc4d08c",
   "metadata": {
    "papermill": {
     "duration": 0.006769,
     "end_time": "2022-09-19T00:43:24.589496",
     "exception": false,
     "start_time": "2022-09-19T00:43:24.582727",
     "status": "completed"
    },
    "tags": []
   },
   "source": [
    "There is missing information on almost all of the attributes."
   ]
  },
  {
   "cell_type": "code",
   "execution_count": 5,
   "id": "6bf1ab53",
   "metadata": {
    "execution": {
     "iopub.execute_input": "2022-09-19T00:43:24.605356Z",
     "iopub.status.busy": "2022-09-19T00:43:24.604700Z",
     "iopub.status.idle": "2022-09-19T00:43:24.616349Z",
     "shell.execute_reply": "2022-09-19T00:43:24.615171Z"
    },
    "papermill": {
     "duration": 0.022145,
     "end_time": "2022-09-19T00:43:24.618610",
     "exception": false,
     "start_time": "2022-09-19T00:43:24.596465",
     "status": "completed"
    },
    "tags": []
   },
   "outputs": [
    {
     "data": {
      "text/plain": [
       "HomePlanet     201\n",
       "CryoSleep      217\n",
       "Cabin          199\n",
       "Destination    182\n",
       "Age            179\n",
       "VIP            203\n",
       "Transported      0\n",
       "dtype: int64"
      ]
     },
     "execution_count": 5,
     "metadata": {},
     "output_type": "execute_result"
    }
   ],
   "source": [
    "train_data.isna().sum()"
   ]
  },
  {
   "cell_type": "markdown",
   "id": "b999b769",
   "metadata": {
    "papermill": {
     "duration": 0.006831,
     "end_time": "2022-09-19T00:43:24.632953",
     "exception": false,
     "start_time": "2022-09-19T00:43:24.626122",
     "status": "completed"
    },
    "tags": []
   },
   "source": [
    "<h3>EDA</h3>"
   ]
  },
  {
   "cell_type": "code",
   "execution_count": 6,
   "id": "fd3476fd",
   "metadata": {
    "execution": {
     "iopub.execute_input": "2022-09-19T00:43:24.649835Z",
     "iopub.status.busy": "2022-09-19T00:43:24.648698Z",
     "iopub.status.idle": "2022-09-19T00:43:24.667294Z",
     "shell.execute_reply": "2022-09-19T00:43:24.666012Z"
    },
    "papermill": {
     "duration": 0.029497,
     "end_time": "2022-09-19T00:43:24.669693",
     "exception": false,
     "start_time": "2022-09-19T00:43:24.640196",
     "status": "completed"
    },
    "tags": []
   },
   "outputs": [
    {
     "data": {
      "text/plain": [
       "HomePlanet        3\n",
       "CryoSleep         2\n",
       "Cabin          6560\n",
       "Destination       3\n",
       "Age              80\n",
       "VIP               2\n",
       "Transported       2\n",
       "dtype: int64"
      ]
     },
     "execution_count": 6,
     "metadata": {},
     "output_type": "execute_result"
    }
   ],
   "source": [
    "train_data.nunique()"
   ]
  },
  {
   "cell_type": "markdown",
   "id": "ceab0534",
   "metadata": {
    "papermill": {
     "duration": 0.007105,
     "end_time": "2022-09-19T00:43:24.684337",
     "exception": false,
     "start_time": "2022-09-19T00:43:24.677232",
     "status": "completed"
    },
    "tags": []
   },
   "source": [
    "Separate categorical and numerical features, and target variable."
   ]
  },
  {
   "cell_type": "code",
   "execution_count": 7,
   "id": "4ab9c2de",
   "metadata": {
    "execution": {
     "iopub.execute_input": "2022-09-19T00:43:24.700547Z",
     "iopub.status.busy": "2022-09-19T00:43:24.700116Z",
     "iopub.status.idle": "2022-09-19T00:43:24.705635Z",
     "shell.execute_reply": "2022-09-19T00:43:24.704708Z"
    },
    "papermill": {
     "duration": 0.01647,
     "end_time": "2022-09-19T00:43:24.707996",
     "exception": false,
     "start_time": "2022-09-19T00:43:24.691526",
     "status": "completed"
    },
    "tags": []
   },
   "outputs": [],
   "source": [
    "cat_attr = ['HomePlanet', 'CryoSleep', 'Destination', 'VIP']\n",
    "num_attr = ['Age']\n",
    "target = 'Transported'"
   ]
  },
  {
   "cell_type": "markdown",
   "id": "04fb4835",
   "metadata": {
    "papermill": {
     "duration": 0.006981,
     "end_time": "2022-09-19T00:43:24.722871",
     "exception": false,
     "start_time": "2022-09-19T00:43:24.715890",
     "status": "completed"
    },
    "tags": []
   },
   "source": [
    "Information on Cabin is not usefull unless we transformed it."
   ]
  },
  {
   "cell_type": "code",
   "execution_count": 8,
   "id": "04f644f4",
   "metadata": {
    "execution": {
     "iopub.execute_input": "2022-09-19T00:43:24.739142Z",
     "iopub.status.busy": "2022-09-19T00:43:24.738732Z",
     "iopub.status.idle": "2022-09-19T00:43:25.263358Z",
     "shell.execute_reply": "2022-09-19T00:43:25.262239Z"
    },
    "papermill": {
     "duration": 0.535854,
     "end_time": "2022-09-19T00:43:25.265883",
     "exception": false,
     "start_time": "2022-09-19T00:43:24.730029",
     "status": "completed"
    },
    "tags": []
   },
   "outputs": [
    {
     "data": {
      "text/plain": [
       "<AxesSubplot:xlabel='Age', ylabel='Count'>"
      ]
     },
     "execution_count": 8,
     "metadata": {},
     "output_type": "execute_result"
    },
    {
     "data": {
      "image/png": "[encoded data removed]",
      "text/plain": [
       "<Figure size 432x288 with 1 Axes>"
      ]
     },
     "metadata": {},
     "output_type": "display_data"
    }
   ],
   "source": [
    "sns.histplot(train_data, x='Age', hue=target)"
   ]
  },
  {
   "cell_type": "markdown",
   "id": "42ced494",
   "metadata": {
    "papermill": {
     "duration": 0.007609,
     "end_time": "2022-09-19T00:43:25.281447",
     "exception": false,
     "start_time": "2022-09-19T00:43:25.273838",
     "status": "completed"
    },
    "tags": []
   },
   "source": [
    "0-20 year olds are more likely to be transported, 20-40 year olds are less likely to be transported."
   ]
  },
  {
   "cell_type": "code",
   "execution_count": 9,
   "id": "323cb7ed",
   "metadata": {
    "execution": {
     "iopub.execute_input": "2022-09-19T00:43:25.299225Z",
     "iopub.status.busy": "2022-09-19T00:43:25.298808Z",
     "iopub.status.idle": "2022-09-19T00:43:25.994064Z",
     "shell.execute_reply": "2022-09-19T00:43:25.992754Z"
    },
    "papermill": {
     "duration": 0.707456,
     "end_time": "2022-09-19T00:43:25.996817",
     "exception": false,
     "start_time": "2022-09-19T00:43:25.289361",
     "status": "completed"
    },
    "tags": []
   },
   "outputs": [
    {
     "data": {
      "image/png": "[encoded data removed]",
      "text/plain": [
       "<Figure size 432x1800 with 4 Axes>"
      ]
     },
     "metadata": {},
     "output_type": "display_data"
    }
   ],
   "source": [
    "fig, axes = plt.subplots(len(cat_attr),1, figsize=(6,25))\n",
    "i = 0\n",
    "for axis in axes:\n",
    "    sns.countplot(data=train_data, x=cat_attr[i], hue=target, ax=axis)\n",
    "    i+=1\n",
    "plt.show()"
   ]
  },
  {
   "cell_type": "markdown",
   "id": "54cdb050",
   "metadata": {
    "papermill": {
     "duration": 0.008325,
     "end_time": "2022-09-19T00:43:26.013999",
     "exception": false,
     "start_time": "2022-09-19T00:43:26.005674",
     "status": "completed"
    },
    "tags": []
   },
   "source": [
    "* People coming from Earth are less likely to be transported, meanwhile people from Europa are more likely to be transported.\n",
    "* People in cryosleep are more likely to be transported.\n",
    "* Few people travel VIP."
   ]
  },
  {
   "cell_type": "markdown",
   "id": "bdc4f9a2",
   "metadata": {
    "papermill": {
     "duration": 0.008197,
     "end_time": "2022-09-19T00:43:26.030735",
     "exception": false,
     "start_time": "2022-09-19T00:43:26.022538",
     "status": "completed"
    },
    "tags": []
   },
   "source": [
    "Now we are going to separate Cabin into Deck, Num and Side. First we create a mock value for missing cabins, and we make sure that the value is not present in the train or test set."
   ]
  },
  {
   "cell_type": "code",
   "execution_count": 10,
   "id": "b7c7bb61",
   "metadata": {
    "execution": {
     "iopub.execute_input": "2022-09-19T00:43:26.049494Z",
     "iopub.status.busy": "2022-09-19T00:43:26.049119Z",
     "iopub.status.idle": "2022-09-19T00:43:26.058701Z",
     "shell.execute_reply": "2022-09-19T00:43:26.057468Z"
    },
    "papermill": {
     "duration": 0.021888,
     "end_time": "2022-09-19T00:43:26.061114",
     "exception": false,
     "start_time": "2022-09-19T00:43:26.039226",
     "status": "completed"
    },
    "tags": []
   },
   "outputs": [
    {
     "name": "stdout",
     "output_type": "stream",
     "text": [
      "Training data impossible value counts (should be 0): 0\n",
      "Test data impossible value counts (should be 0): 0\n"
     ]
    }
   ],
   "source": [
    "na_cabin = 'Z/9999/Z'\n",
    "print('Training data impossible value counts (should be 0):', train_data.loc[train_data['Cabin'] == na_cabin, 'Cabin'].count())\n",
    "print('Test data impossible value counts (should be 0):', test_data.loc[test_data['Cabin'] == 'na_cabin', 'Cabin'].count())\n"
   ]
  },
  {
   "cell_type": "code",
   "execution_count": 11,
   "id": "d96edbd0",
   "metadata": {
    "execution": {
     "iopub.execute_input": "2022-09-19T00:43:26.081224Z",
     "iopub.status.busy": "2022-09-19T00:43:26.080189Z",
     "iopub.status.idle": "2022-09-19T00:43:26.090260Z",
     "shell.execute_reply": "2022-09-19T00:43:26.089357Z"
    },
    "papermill": {
     "duration": 0.022651,
     "end_time": "2022-09-19T00:43:26.092637",
     "exception": false,
     "start_time": "2022-09-19T00:43:26.069986",
     "status": "completed"
    },
    "tags": []
   },
   "outputs": [],
   "source": [
    "from sklearn.base import BaseEstimator, TransformerMixin\n",
    "class CabinTransformer(BaseEstimator, TransformerMixin):\n",
    "    def fit(self,X,y=None):\n",
    "        return self\n",
    "    def transform(self,X,y=None):\n",
    "        X['Cabin'].fillna('Z/9999/Z', inplace=True)\n",
    "        X['Cabin_Deck'] = X['Cabin'].apply(lambda x:x.split('/')[0])\n",
    "        X['Cabin_Number'] = X['Cabin'].apply(lambda x:x.split('/')[1]).astype(int)\n",
    "        X['Cabin_Side'] = X['Cabin'].apply(lambda x:x.split('/')[2])\n",
    "        X.drop('Cabin', axis=1, inplace=True)\n",
    "        X.loc[X['Cabin_Deck'] == 'Z', 'Cabin_Deck'] = np.nan\n",
    "        X.loc[X['Cabin_Number'] == 9999, 'Cabin_Number'] = np.nan\n",
    "        X.loc[X['Cabin_Side'] == 'Z', 'Cabin_Side'] = np.nan\n",
    "        return X\n"
   ]
  },
  {
   "cell_type": "code",
   "execution_count": 12,
   "id": "59f05a15",
   "metadata": {
    "execution": {
     "iopub.execute_input": "2022-09-19T00:43:26.111918Z",
     "iopub.status.busy": "2022-09-19T00:43:26.111543Z",
     "iopub.status.idle": "2022-09-19T00:43:26.153621Z",
     "shell.execute_reply": "2022-09-19T00:43:26.152772Z"
    },
    "papermill": {
     "duration": 0.0543,
     "end_time": "2022-09-19T00:43:26.155676",
     "exception": false,
     "start_time": "2022-09-19T00:43:26.101376",
     "status": "completed"
    },
    "tags": []
   },
   "outputs": [
    {
     "data": {
      "text/html": [
       "<div>\n",
       "<style scoped>\n",
       "    .dataframe tbody tr th:only-of-type {\n",
       "        vertical-align: middle;\n",
       "    }\n",
       "\n",
       "    .dataframe tbody tr th {\n",
       "        vertical-align: top;\n",
       "    }\n",
       "\n",
       "    .dataframe thead th {\n",
       "        text-align: right;\n",
       "    }\n",
       "</style>\n",
       "<table border=\"1\" class=\"dataframe\">\n",
       "  <thead>\n",
       "    <tr style=\"text-align: right;\">\n",
       "      <th></th>\n",
       "      <th>HomePlanet</th>\n",
       "      <th>CryoSleep</th>\n",
       "      <th>Destination</th>\n",
       "      <th>Age</th>\n",
       "      <th>VIP</th>\n",
       "      <th>Transported</th>\n",
       "      <th>Cabin_Deck</th>\n",
       "      <th>Cabin_Number</th>\n",
       "      <th>Cabin_Side</th>\n",
       "    </tr>\n",
       "    <tr>\n",
       "      <th>PassengerId</th>\n",
       "      <th></th>\n",
       "      <th></th>\n",
       "      <th></th>\n",
       "      <th></th>\n",
       "      <th></th>\n",
       "      <th></th>\n",
       "      <th></th>\n",
       "      <th></th>\n",
       "      <th></th>\n",
       "    </tr>\n",
       "  </thead>\n",
       "  <tbody>\n",
       "    <tr>\n",
       "      <th>0001_01</th>\n",
       "      <td>Europa</td>\n",
       "      <td>False</td>\n",
       "      <td>TRAPPIST-1e</td>\n",
       "      <td>39.0</td>\n",
       "      <td>False</td>\n",
       "      <td>False</td>\n",
       "      <td>B</td>\n",
       "      <td>0.0</td>\n",
       "      <td>P</td>\n",
       "    </tr>\n",
       "    <tr>\n",
       "      <th>0002_01</th>\n",
       "      <td>Earth</td>\n",
       "      <td>False</td>\n",
       "      <td>TRAPPIST-1e</td>\n",
       "      <td>24.0</td>\n",
       "      <td>False</td>\n",
       "      <td>True</td>\n",
       "      <td>F</td>\n",
       "      <td>0.0</td>\n",
       "      <td>S</td>\n",
       "    </tr>\n",
       "    <tr>\n",
       "      <th>0003_01</th>\n",
       "      <td>Europa</td>\n",
       "      <td>False</td>\n",
       "      <td>TRAPPIST-1e</td>\n",
       "      <td>58.0</td>\n",
       "      <td>True</td>\n",
       "      <td>False</td>\n",
       "      <td>A</td>\n",
       "      <td>0.0</td>\n",
       "      <td>S</td>\n",
       "    </tr>\n",
       "    <tr>\n",
       "      <th>0003_02</th>\n",
       "      <td>Europa</td>\n",
       "      <td>False</td>\n",
       "      <td>TRAPPIST-1e</td>\n",
       "      <td>33.0</td>\n",
       "      <td>False</td>\n",
       "      <td>False</td>\n",
       "      <td>A</td>\n",
       "      <td>0.0</td>\n",
       "      <td>S</td>\n",
       "    </tr>\n",
       "    <tr>\n",
       "      <th>0004_01</th>\n",
       "      <td>Earth</td>\n",
       "      <td>False</td>\n",
       "      <td>TRAPPIST-1e</td>\n",
       "      <td>16.0</td>\n",
       "      <td>False</td>\n",
       "      <td>True</td>\n",
       "      <td>F</td>\n",
       "      <td>1.0</td>\n",
       "      <td>S</td>\n",
       "    </tr>\n",
       "    <tr>\n",
       "      <th>...</th>\n",
       "      <td>...</td>\n",
       "      <td>...</td>\n",
       "      <td>...</td>\n",
       "      <td>...</td>\n",
       "      <td>...</td>\n",
       "      <td>...</td>\n",
       "      <td>...</td>\n",
       "      <td>...</td>\n",
       "      <td>...</td>\n",
       "    </tr>\n",
       "    <tr>\n",
       "      <th>9276_01</th>\n",
       "      <td>Europa</td>\n",
       "      <td>False</td>\n",
       "      <td>55 Cancri e</td>\n",
       "      <td>41.0</td>\n",
       "      <td>True</td>\n",
       "      <td>False</td>\n",
       "      <td>A</td>\n",
       "      <td>98.0</td>\n",
       "      <td>P</td>\n",
       "    </tr>\n",
       "    <tr>\n",
       "      <th>9278_01</th>\n",
       "      <td>Earth</td>\n",
       "      <td>True</td>\n",
       "      <td>PSO J318.5-22</td>\n",
       "      <td>18.0</td>\n",
       "      <td>False</td>\n",
       "      <td>False</td>\n",
       "      <td>G</td>\n",
       "      <td>1499.0</td>\n",
       "      <td>S</td>\n",
       "    </tr>\n",
       "    <tr>\n",
       "      <th>9279_01</th>\n",
       "      <td>Earth</td>\n",
       "      <td>False</td>\n",
       "      <td>TRAPPIST-1e</td>\n",
       "      <td>26.0</td>\n",
       "      <td>False</td>\n",
       "      <td>True</td>\n",
       "      <td>G</td>\n",
       "      <td>1500.0</td>\n",
       "      <td>S</td>\n",
       "    </tr>\n",
       "    <tr>\n",
       "      <th>9280_01</th>\n",
       "      <td>Europa</td>\n",
       "      <td>False</td>\n",
       "      <td>55 Cancri e</td>\n",
       "      <td>32.0</td>\n",
       "      <td>False</td>\n",
       "      <td>False</td>\n",
       "      <td>E</td>\n",
       "      <td>608.0</td>\n",
       "      <td>S</td>\n",
       "    </tr>\n",
       "    <tr>\n",
       "      <th>9280_02</th>\n",
       "      <td>Europa</td>\n",
       "      <td>False</td>\n",
       "      <td>TRAPPIST-1e</td>\n",
       "      <td>44.0</td>\n",
       "      <td>False</td>\n",
       "      <td>True</td>\n",
       "      <td>E</td>\n",
       "      <td>608.0</td>\n",
       "      <td>S</td>\n",
       "    </tr>\n",
       "  </tbody>\n",
       "</table>\n",
       "<p>8693 rows × 9 columns</p>\n",
       "</div>"
      ],
      "text/plain": [
       "            HomePlanet CryoSleep    Destination   Age    VIP  Transported  \\\n",
       "PassengerId                                                                 \n",
       "0001_01         Europa     False    TRAPPIST-1e  39.0  False        False   \n",
       "0002_01          Earth     False    TRAPPIST-1e  24.0  False         True   \n",
       "0003_01         Europa     False    TRAPPIST-1e  58.0   True        False   \n",
       "0003_02         Europa     False    TRAPPIST-1e  33.0  False        False   \n",
       "0004_01          Earth     False    TRAPPIST-1e  16.0  False         True   \n",
       "...                ...       ...            ...   ...    ...          ...   \n",
       "9276_01         Europa     False    55 Cancri e  41.0   True        False   \n",
       "9278_01          Earth      True  PSO J318.5-22  18.0  False        False   \n",
       "9279_01          Earth     False    TRAPPIST-1e  26.0  False         True   \n",
       "9280_01         Europa     False    55 Cancri e  32.0  False        False   \n",
       "9280_02         Europa     False    TRAPPIST-1e  44.0  False         True   \n",
       "\n",
       "            Cabin_Deck  Cabin_Number Cabin_Side  \n",
       "PassengerId                                      \n",
       "0001_01              B           0.0          P  \n",
       "0002_01              F           0.0          S  \n",
       "0003_01              A           0.0          S  \n",
       "0003_02              A           0.0          S  \n",
       "0004_01              F           1.0          S  \n",
       "...                ...           ...        ...  \n",
       "9276_01              A          98.0          P  \n",
       "9278_01              G        1499.0          S  \n",
       "9279_01              G        1500.0          S  \n",
       "9280_01              E         608.0          S  \n",
       "9280_02              E         608.0          S  \n",
       "\n",
       "[8693 rows x 9 columns]"
      ]
     },
     "execution_count": 12,
     "metadata": {},
     "output_type": "execute_result"
    }
   ],
   "source": [
    "trns = CabinTransformer()\n",
    "trns.fit_transform(train_data)"
   ]
  },
  {
   "cell_type": "code",
   "execution_count": 13,
   "id": "e64197c6",
   "metadata": {
    "execution": {
     "iopub.execute_input": "2022-09-19T00:43:26.176838Z",
     "iopub.status.busy": "2022-09-19T00:43:26.175688Z",
     "iopub.status.idle": "2022-09-19T00:43:26.180193Z",
     "shell.execute_reply": "2022-09-19T00:43:26.179413Z"
    },
    "papermill": {
     "duration": 0.017086,
     "end_time": "2022-09-19T00:43:26.182325",
     "exception": false,
     "start_time": "2022-09-19T00:43:26.165239",
     "status": "completed"
    },
    "tags": []
   },
   "outputs": [],
   "source": [
    "# features=['HomePlanet','CryoSleep','Destination','Age','VIP','RoomService','FoodCourt','ShoppingMall','Spa','VRDeck'] #columns used \n",
    "\n",
    "# X_=train_data[features]\n",
    "# X=pd.get_dummies(X_) # categorical data to numeric \n",
    "# y=train_data.Transported\n",
    "\n",
    "# train_X,val_X,train_y,val_y=train_test_split(X,y)\n"
   ]
  },
  {
   "cell_type": "code",
   "execution_count": 14,
   "id": "9f41c09b",
   "metadata": {
    "execution": {
     "iopub.execute_input": "2022-09-19T00:43:26.202583Z",
     "iopub.status.busy": "2022-09-19T00:43:26.201615Z",
     "iopub.status.idle": "2022-09-19T00:43:26.205835Z",
     "shell.execute_reply": "2022-09-19T00:43:26.205114Z"
    },
    "papermill": {
     "duration": 0.016416,
     "end_time": "2022-09-19T00:43:26.207886",
     "exception": false,
     "start_time": "2022-09-19T00:43:26.191470",
     "status": "completed"
    },
    "tags": []
   },
   "outputs": [],
   "source": [
    "# from sklearn.ensemble import RandomForestClassifier\n",
    "# from sklearn.ensemble import AdaBoostClassifier\n",
    "\n",
    "# model_random_forest=AdaBoostClassifier(RandomForestClassifier(random_state=0),random_state=0)\n",
    "# model_random_forest.fit(train_X,train_y)\n",
    "\n",
    "# predictions_random_forest=model_random_forest.predict(val_X)\n",
    "\n",
    "# accuracy_random_forest=accuracy_score(val_y,predictions_random_forest)*100"
   ]
  },
  {
   "cell_type": "code",
   "execution_count": 15,
   "id": "c7c5c19b",
   "metadata": {
    "execution": {
     "iopub.execute_input": "2022-09-19T00:43:26.227721Z",
     "iopub.status.busy": "2022-09-19T00:43:26.227310Z",
     "iopub.status.idle": "2022-09-19T00:43:26.231937Z",
     "shell.execute_reply": "2022-09-19T00:43:26.230929Z"
    },
    "papermill": {
     "duration": 0.017022,
     "end_time": "2022-09-19T00:43:26.234040",
     "exception": false,
     "start_time": "2022-09-19T00:43:26.217018",
     "status": "completed"
    },
    "tags": []
   },
   "outputs": [],
   "source": [
    "# from sklearn.linear_model import SGDClassifier\n",
    "\n",
    "# model_SGDC=SGDClassifier(random_state=0)\n",
    "# model_SGDC.fit(train_X,train_y)\n",
    "\n",
    "# predictions_SGDC=model_SGDC.predict(val_X)\n",
    "\n",
    "# accuracy_SGDC=accuracy_score(val_y,predictions_SGDC)*100\n"
   ]
  },
  {
   "cell_type": "code",
   "execution_count": 16,
   "id": "f742fe1e",
   "metadata": {
    "execution": {
     "iopub.execute_input": "2022-09-19T00:43:26.254222Z",
     "iopub.status.busy": "2022-09-19T00:43:26.253539Z",
     "iopub.status.idle": "2022-09-19T00:43:26.265543Z",
     "shell.execute_reply": "2022-09-19T00:43:26.264776Z"
    },
    "papermill": {
     "duration": 0.02466,
     "end_time": "2022-09-19T00:43:26.267853",
     "exception": false,
     "start_time": "2022-09-19T00:43:26.243193",
     "status": "completed"
    },
    "tags": []
   },
   "outputs": [],
   "source": [
    "from sklearn.neural_network import MLPClassifier   \n",
    "\n",
    "# model_MLP=MLPClassifier(random_state=0,learning_rate_init=0.01)\n",
    "# model_MLP.fit(train_X,train_y)\n",
    "\n",
    "# predictions_MLP=model_MLP.predict(val_X)\n",
    "\n",
    "# accuracy_MLP=accuracy_score(val_y,predictions_MLP)*100"
   ]
  },
  {
   "cell_type": "code",
   "execution_count": 17,
   "id": "7ec1bd66",
   "metadata": {
    "execution": {
     "iopub.execute_input": "2022-09-19T00:43:26.288147Z",
     "iopub.status.busy": "2022-09-19T00:43:26.287705Z",
     "iopub.status.idle": "2022-09-19T00:43:26.292104Z",
     "shell.execute_reply": "2022-09-19T00:43:26.291025Z"
    },
    "papermill": {
     "duration": 0.016972,
     "end_time": "2022-09-19T00:43:26.294213",
     "exception": false,
     "start_time": "2022-09-19T00:43:26.277241",
     "status": "completed"
    },
    "tags": []
   },
   "outputs": [],
   "source": [
    "# print(accuracy_random_forest,\"% RandomForest+Ada\")\n",
    "# print(accuracy_SGDC,\"% SGDC\")\n",
    "# print(accuracy_MLP,\"% MLP\")"
   ]
  },
  {
   "cell_type": "markdown",
   "id": "cb4b150f",
   "metadata": {
    "papermill": {
     "duration": 0.008869,
     "end_time": "2022-09-19T00:43:26.312214",
     "exception": false,
     "start_time": "2022-09-19T00:43:26.303345",
     "status": "completed"
    },
    "tags": []
   },
   "source": [
    "MLP gives the best result."
   ]
  },
  {
   "cell_type": "code",
   "execution_count": 18,
   "id": "66518bf2",
   "metadata": {
    "execution": {
     "iopub.execute_input": "2022-09-19T00:43:26.332446Z",
     "iopub.status.busy": "2022-09-19T00:43:26.332021Z",
     "iopub.status.idle": "2022-09-19T00:43:26.336459Z",
     "shell.execute_reply": "2022-09-19T00:43:26.335399Z"
    },
    "papermill": {
     "duration": 0.017138,
     "end_time": "2022-09-19T00:43:26.338530",
     "exception": false,
     "start_time": "2022-09-19T00:43:26.321392",
     "status": "completed"
    },
    "tags": []
   },
   "outputs": [],
   "source": [
    "# model_MLP_full_data=MLPClassifier(random_state=0,learning_rate_init=0.01)\n",
    "# model_MLP_full_data.fit(X,y)"
   ]
  },
  {
   "cell_type": "code",
   "execution_count": 19,
   "id": "5263a9e5",
   "metadata": {
    "execution": {
     "iopub.execute_input": "2022-09-19T00:43:26.358639Z",
     "iopub.status.busy": "2022-09-19T00:43:26.357855Z",
     "iopub.status.idle": "2022-09-19T00:43:26.362702Z",
     "shell.execute_reply": "2022-09-19T00:43:26.361664Z"
    },
    "papermill": {
     "duration": 0.017226,
     "end_time": "2022-09-19T00:43:26.364961",
     "exception": false,
     "start_time": "2022-09-19T00:43:26.347735",
     "status": "completed"
    },
    "tags": []
   },
   "outputs": [],
   "source": [
    "# test_data=pd.read_csv('/kaggle/input/spaceship-titanic/test.csv')\n",
    "# # test_data=test_data.dropna(axis=0)\n",
    "# # test_X=pd.get_dummies(test_data[features])"
   ]
  },
  {
   "cell_type": "code",
   "execution_count": 20,
   "id": "038ade4c",
   "metadata": {
    "execution": {
     "iopub.execute_input": "2022-09-19T00:43:26.384609Z",
     "iopub.status.busy": "2022-09-19T00:43:26.384223Z",
     "iopub.status.idle": "2022-09-19T00:43:26.388671Z",
     "shell.execute_reply": "2022-09-19T00:43:26.387653Z"
    },
    "papermill": {
     "duration": 0.017087,
     "end_time": "2022-09-19T00:43:26.391007",
     "exception": false,
     "start_time": "2022-09-19T00:43:26.373920",
     "status": "completed"
    },
    "tags": []
   },
   "outputs": [],
   "source": [
    "# test_data.shape"
   ]
  },
  {
   "cell_type": "code",
   "execution_count": 21,
   "id": "35c4ab4a",
   "metadata": {
    "execution": {
     "iopub.execute_input": "2022-09-19T00:43:26.410955Z",
     "iopub.status.busy": "2022-09-19T00:43:26.410567Z",
     "iopub.status.idle": "2022-09-19T00:43:26.415048Z",
     "shell.execute_reply": "2022-09-19T00:43:26.414041Z"
    },
    "papermill": {
     "duration": 0.016859,
     "end_time": "2022-09-19T00:43:26.416999",
     "exception": false,
     "start_time": "2022-09-19T00:43:26.400140",
     "status": "completed"
    },
    "tags": []
   },
   "outputs": [],
   "source": [
    "# test_preds=model_MLP_full_data.predict(test_X)\n",
    "# test_preds"
   ]
  },
  {
   "cell_type": "code",
   "execution_count": 22,
   "id": "deaaac76",
   "metadata": {
    "execution": {
     "iopub.execute_input": "2022-09-19T00:43:26.437377Z",
     "iopub.status.busy": "2022-09-19T00:43:26.436996Z",
     "iopub.status.idle": "2022-09-19T00:43:26.441050Z",
     "shell.execute_reply": "2022-09-19T00:43:26.440011Z"
    },
    "papermill": {
     "duration": 0.016952,
     "end_time": "2022-09-19T00:43:26.443320",
     "exception": false,
     "start_time": "2022-09-19T00:43:26.426368",
     "status": "completed"
    },
    "tags": []
   },
   "outputs": [],
   "source": [
    "# submission=pd.DataFrame({\"PassengerId\":test_data.PassengerId,\"Transported\":test_preds})\n",
    "# submission.to_csv('submission.csv',index=False)"
   ]
  }
 ],
 "metadata": {
  "kernelspec": {
   "display_name": "Python 3",
   "language": "python",
   "name": "python3"
  },
  "language_info": {
   "codemirror_mode": {
    "name": "ipython",
    "version": 3
   },
   "file_extension": ".py",
   "mimetype": "text/x-python",
   "name": "python",
   "nbconvert_exporter": "python",
   "pygments_lexer": "ipython3",
   "version": "3.7.12"
  },
  "papermill": {
   "default_parameters": {},
   "duration": 13.855488,
   "end_time": "2022-09-19T00:43:27.275943",
   "environment_variables": {},
   "exception": null,
   "input_path": "__notebook__.ipynb",
   "output_path": "__notebook__.ipynb",
   "parameters": {},
   "start_time": "2022-09-19T00:43:13.420455",
   "version": "2.3.4"
  }
 },
 "nbformat": 4,
 "nbformat_minor": 5
}
